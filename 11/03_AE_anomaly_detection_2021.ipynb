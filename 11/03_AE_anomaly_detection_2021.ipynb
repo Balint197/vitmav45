{
  "nbformat": 4,
  "nbformat_minor": 0,
  "metadata": {
    "colab": {
      "name": "03_AE_anomaly_detection_test_2021.ipynb",
      "provenance": []
    },
    "kernelspec": {
      "name": "python3",
      "display_name": "Python 3"
    },
    "accelerator": "GPU"
  },
  "cells": [
    {
      "cell_type": "code",
      "metadata": {
        "id": "FxSyQtrgcCol"
      },
      "source": [
        "'''\n",
        "Copyright\n",
        "\n",
        "Jelen forráskód a Budapesti Műszaki és Gazdaságtudományi Egyetemen tartott\n",
        "\"Deep Learning a gyakorlatban Python és LUA alapon\" tantárgy segédanyagaként készült.\n",
        "\n",
        "A tantárgy honlapja: http://smartlab.tmit.bme.hu/oktatas-deep-learning\n",
        "Deep Learning kutatás: http://smartlab.tmit.bme.hu/deep-learning\n",
        "\n",
        "A forráskódot GPLv3 licensz védi. Újrafelhasználás esetén lehetőség szerint kérejük\n",
        "az alábbi szerzőt értesíteni.\n",
        "\n",
        "2021 (c) Csapó Tamás Gábor (csapot kukac tmit pont bme pont hu)\n",
        "\n",
        "\n",
        "# adatok eredetileg innen:\n",
        "#   https://www.kaggle.com/mlg-ulb/creditcardfraud/data\n",
        "# források:\n",
        "#   https://hub.packtpub.com/using-autoencoders-for-detecting-credit-card-fraud-tutorial/\n",
        "#   https://medium.com/@curiousily/credit-card-fraud-detection-using-autoencoders-in-keras-tensorflow-for-hackers-part-vii-20e0c85301bd\n",
        "#   https://towardsdatascience.com/anomaly-detection-with-autoencoder-b4cdce4866a6\n",
        "\n",
        "\n",
        "témakör: anomália detekció ~ outlier detekció ~ kiugró adatok keresése\n",
        "\n",
        "'''"
      ],
      "execution_count": null,
      "outputs": []
    },
    {
      "cell_type": "code",
      "metadata": {
        "id": "w4MZLFTYw703"
      },
      "source": [
        "# creditcard.csv: hitelkártya fizetési adatok kaggle versenyről\n",
        "\n",
        "# időnként lassú a letöltés, akár 10p is lehet - időben elkezdeni!\n",
        "# !wget smartlab.tmit.bme.hu/csapo/dl/creditcard.csv\n",
        "!wget https://raw.githubusercontent.com/nsethi31/Kaggle-Data-Credit-Card-Fraud-Detection/master/creditcard.csv"
      ],
      "execution_count": null,
      "outputs": []
    },
    {
      "cell_type": "code",
      "metadata": {
        "id": "appRVT3LxS4r",
        "colab": {
          "base_uri": "https://localhost:8080/"
        },
        "outputId": "0677e78c-d241-496b-ea32-0d9682de2f4e"
      },
      "source": [
        "!ls -al"
      ],
      "execution_count": 4,
      "outputs": [
        {
          "output_type": "stream",
          "name": "stdout",
          "text": [
            "total 100256\n",
            "drwxr-xr-x 1 root root      4096 Nov 17 16:24 .\n",
            "drwxr-xr-x 1 root root      4096 Nov 17 14:34 ..\n",
            "drwxr-xr-x 4 root root      4096 Nov  1 13:34 .config\n",
            "-rw-r--r-- 1 root root 102634230 Nov 17 16:24 creditcard.csv\n",
            "drwxr-xr-x 2 root root      4096 Nov 17 14:53 .ipynb_checkpoints\n",
            "drwxrwxr-x 2 root root      4096 Oct 29  2019 __MACOSX\n",
            "drwxr-xr-x 1 root root      4096 Nov  1 13:35 sample_data\n"
          ]
        }
      ]
    },
    {
      "cell_type": "code",
      "metadata": {
        "colab": {
          "base_uri": "https://localhost:8080/"
        },
        "id": "hC9Bs4WAiniY",
        "outputId": "c43208d7-6a6f-4213-8a10-d1607054c84c"
      },
      "source": [
        "!head creditcard.csv"
      ],
      "execution_count": 5,
      "outputs": [
        {
          "output_type": "stream",
          "name": "stdout",
          "text": [
            "Time,V1,V2,V3,V4,V5,V6,V7,V8,V9,V10,V11,V12,V13,V14,V15,V16,V17,V18,V19,V20,V21,V22,V23,V24,V25,V26,V27,V28,Amount,Class\n",
            "0,-1.359807134,-0.072781173,2.536346738,1.378155224,-0.33832077,0.462387778,0.239598554,0.098697901,0.36378697,0.090794172,-0.551599533,-0.617800856,-0.991389847,-0.311169354,1.468176972,-0.470400525,0.207971242,0.02579058,0.40399296,0.251412098,-0.018306778,0.277837576,-0.11047391,0.066928075,0.128539358,-0.189114844,0.133558377,-0.021053053,149.62,0\n",
            "0,1.191857111,0.266150712,0.166480113,0.448154078,0.060017649,-0.082360809,-0.078802983,0.085101655,-0.255425128,-0.166974414,1.612726661,1.065235311,0.489095016,-0.143772296,0.635558093,0.463917041,-0.114804663,-0.18336127,-0.145783041,-0.069083135,-0.225775248,-0.638671953,0.101288021,-0.339846476,0.167170404,0.125894532,-0.008983099,0.014724169,2.69,0\n",
            "1,-1.358354062,-1.340163075,1.773209343,0.379779593,-0.503198133,1.800499381,0.791460956,0.247675787,-1.514654323,0.207642865,0.624501459,0.066083685,0.717292731,-0.165945923,2.345864949,-2.890083194,1.109969379,-0.121359313,-2.261857095,0.524979725,0.247998153,0.771679402,0.909412262,-0.689280956,-0.327641834,-0.139096572,-0.055352794,-0.059751841,378.66,0\n",
            "1,-0.966271712,-0.185226008,1.79299334,-0.863291275,-0.01030888,1.247203168,0.23760894,0.377435875,-1.387024063,-0.054951922,-0.226487264,0.178228226,0.50775687,-0.287923745,-0.631418118,-1.059647245,-0.684092786,1.965775003,-1.23262197,-0.208037781,-0.108300452,0.005273597,-0.190320519,-1.175575332,0.647376035,-0.221928844,0.062722849,0.061457629,123.5,0\n",
            "2,-1.158233093,0.877736755,1.548717847,0.403033934,-0.407193377,0.095921462,0.592940745,-0.270532677,0.817739308,0.753074432,-0.822842878,0.53819555,1.345851593,-1.119669835,0.17512113,-0.451449183,-0.237033239,-0.038194787,0.803486925,0.40854236,-0.009430697,0.798278495,-0.13745808,0.141266984,-0.206009588,0.502292224,0.21942223,0.215153147,69.99,0\n",
            "2,-0.425965884,0.960523045,1.141109342,-0.16825208,0.420986881,-0.029727552,0.476200949,0.260314333,-0.568671376,-0.371407197,1.34126198,0.359893837,-0.358090653,-0.1371337,0.517616807,0.401725896,-0.058132823,0.068653149,-0.033193788,0.084967672,-0.208253515,-0.559824796,-0.026397668,-0.371426583,-0.232793817,0.105914779,0.253844225,0.081080257,3.67,0\n",
            "4,1.229657635,0.141003507,0.045370774,1.202612737,0.191880989,0.272708123,-0.005159003,0.08121294,0.464959995,-0.099254321,-1.416907243,-0.153825826,-0.751062716,0.167371963,0.050143594,-0.443586798,0.002820512,-0.61198734,-0.045575045,-0.219632553,-0.167716266,-0.270709726,-0.154103787,-0.780055415,0.750136936,-0.257236846,0.03450743,0.005167769,4.99,0\n",
            "7,-0.644269442,1.417963545,1.074380376,-0.492199018,0.948934095,0.428118463,1.120631358,-3.807864239,0.615374731,1.249376178,-0.619467796,0.291474353,1.757964214,-1.32386522,0.686132504,-0.076126999,-1.222127345,-0.35822157,0.324504731,-0.156741852,1.94346534,-1.01545471,0.05750353,-0.649709006,-0.415266566,-0.051634297,-1.206921081,-1.085339188,40.8,0\n",
            "7,-0.894286082,0.286157196,-0.113192213,-0.27152613,2.66959866,3.721818061,0.370145128,0.851084443,-0.392047587,-0.410430433,-0.705116587,-0.110452262,-0.286253632,0.07435536,-0.32878305,-0.210077268,-0.499767969,0.118764861,0.570328167,0.052735669,-0.0734251,-0.268091632,-0.20423267,1.011591802,0.37320468,-0.384157308,0.011747356,0.14240433,93.2,0\n"
          ]
        }
      ]
    },
    {
      "cell_type": "code",
      "metadata": {
        "id": "AalSYsVxWiEU"
      },
      "source": [
        "%tensorflow_version 2.x\n",
        "import tensorflow as tf\n",
        "from tensorflow import keras"
      ],
      "execution_count": 6,
      "outputs": []
    },
    {
      "cell_type": "code",
      "metadata": {
        "id": "ueXguVIhKoVY"
      },
      "source": [
        "import pandas as pd\n",
        "from sklearn.model_selection import train_test_split\n",
        "from sklearn.preprocessing import MinMaxScaler\n",
        "import matplotlib.pyplot as plt\n",
        "import numpy as np"
      ],
      "execution_count": 36,
      "outputs": []
    },
    {
      "cell_type": "code",
      "metadata": {
        "id": "q1_FzOg_K2Zf"
      },
      "source": [
        "# adatok beolvasása pandas dataframe-be\n",
        "df = pd.read_csv('creditcard.csv')"
      ],
      "execution_count": 44,
      "outputs": []
    },
    {
      "cell_type": "code",
      "metadata": {
        "id": "g10AYHNuwYut"
      },
      "source": [
        "# először nézzük át, mi van az adatokban!"
      ],
      "execution_count": 45,
      "outputs": []
    },
    {
      "cell_type": "code",
      "metadata": {
        "id": "9pz2r_frxiEW",
        "colab": {
          "base_uri": "https://localhost:8080/"
        },
        "outputId": "8fd7603b-8cea-4d09-99b0-f4fb17178911"
      },
      "source": [
        "df.shape"
      ],
      "execution_count": 46,
      "outputs": [
        {
          "output_type": "execute_result",
          "data": {
            "text/plain": [
              "(284807, 31)"
            ]
          },
          "metadata": {},
          "execution_count": 46
        }
      ]
    },
    {
      "cell_type": "code",
      "metadata": {
        "id": "Dba_3Zqsxm_8",
        "colab": {
          "base_uri": "https://localhost:8080/",
          "height": 439
        },
        "outputId": "076f3046-7ee8-486d-c90d-91d9c432c358"
      },
      "source": [
        "# V1...V28: tömörített, anonimizált adat\n",
        "# Time: időbélyeg\n",
        "# Amount: összeg\n",
        "# Class: osztály (0: normál, 1: csalás)\n",
        "df"
      ],
      "execution_count": 47,
      "outputs": [
        {
          "output_type": "execute_result",
          "data": {
            "text/html": [
              "<div>\n",
              "<style scoped>\n",
              "    .dataframe tbody tr th:only-of-type {\n",
              "        vertical-align: middle;\n",
              "    }\n",
              "\n",
              "    .dataframe tbody tr th {\n",
              "        vertical-align: top;\n",
              "    }\n",
              "\n",
              "    .dataframe thead th {\n",
              "        text-align: right;\n",
              "    }\n",
              "</style>\n",
              "<table border=\"1\" class=\"dataframe\">\n",
              "  <thead>\n",
              "    <tr style=\"text-align: right;\">\n",
              "      <th></th>\n",
              "      <th>Time</th>\n",
              "      <th>V1</th>\n",
              "      <th>V2</th>\n",
              "      <th>V3</th>\n",
              "      <th>V4</th>\n",
              "      <th>V5</th>\n",
              "      <th>V6</th>\n",
              "      <th>V7</th>\n",
              "      <th>V8</th>\n",
              "      <th>V9</th>\n",
              "      <th>V10</th>\n",
              "      <th>V11</th>\n",
              "      <th>V12</th>\n",
              "      <th>V13</th>\n",
              "      <th>V14</th>\n",
              "      <th>V15</th>\n",
              "      <th>V16</th>\n",
              "      <th>V17</th>\n",
              "      <th>V18</th>\n",
              "      <th>V19</th>\n",
              "      <th>V20</th>\n",
              "      <th>V21</th>\n",
              "      <th>V22</th>\n",
              "      <th>V23</th>\n",
              "      <th>V24</th>\n",
              "      <th>V25</th>\n",
              "      <th>V26</th>\n",
              "      <th>V27</th>\n",
              "      <th>V28</th>\n",
              "      <th>Amount</th>\n",
              "      <th>Class</th>\n",
              "    </tr>\n",
              "  </thead>\n",
              "  <tbody>\n",
              "    <tr>\n",
              "      <th>0</th>\n",
              "      <td>0.0</td>\n",
              "      <td>-1.359807</td>\n",
              "      <td>-0.072781</td>\n",
              "      <td>2.536347</td>\n",
              "      <td>1.378155</td>\n",
              "      <td>-0.338321</td>\n",
              "      <td>0.462388</td>\n",
              "      <td>0.239599</td>\n",
              "      <td>0.098698</td>\n",
              "      <td>0.363787</td>\n",
              "      <td>0.090794</td>\n",
              "      <td>-0.551600</td>\n",
              "      <td>-0.617801</td>\n",
              "      <td>-0.991390</td>\n",
              "      <td>-0.311169</td>\n",
              "      <td>1.468177</td>\n",
              "      <td>-0.470401</td>\n",
              "      <td>0.207971</td>\n",
              "      <td>0.025791</td>\n",
              "      <td>0.403993</td>\n",
              "      <td>0.251412</td>\n",
              "      <td>-0.018307</td>\n",
              "      <td>0.277838</td>\n",
              "      <td>-0.110474</td>\n",
              "      <td>0.066928</td>\n",
              "      <td>0.128539</td>\n",
              "      <td>-0.189115</td>\n",
              "      <td>0.133558</td>\n",
              "      <td>-0.021053</td>\n",
              "      <td>149.62</td>\n",
              "      <td>0</td>\n",
              "    </tr>\n",
              "    <tr>\n",
              "      <th>1</th>\n",
              "      <td>0.0</td>\n",
              "      <td>1.191857</td>\n",
              "      <td>0.266151</td>\n",
              "      <td>0.166480</td>\n",
              "      <td>0.448154</td>\n",
              "      <td>0.060018</td>\n",
              "      <td>-0.082361</td>\n",
              "      <td>-0.078803</td>\n",
              "      <td>0.085102</td>\n",
              "      <td>-0.255425</td>\n",
              "      <td>-0.166974</td>\n",
              "      <td>1.612727</td>\n",
              "      <td>1.065235</td>\n",
              "      <td>0.489095</td>\n",
              "      <td>-0.143772</td>\n",
              "      <td>0.635558</td>\n",
              "      <td>0.463917</td>\n",
              "      <td>-0.114805</td>\n",
              "      <td>-0.183361</td>\n",
              "      <td>-0.145783</td>\n",
              "      <td>-0.069083</td>\n",
              "      <td>-0.225775</td>\n",
              "      <td>-0.638672</td>\n",
              "      <td>0.101288</td>\n",
              "      <td>-0.339846</td>\n",
              "      <td>0.167170</td>\n",
              "      <td>0.125895</td>\n",
              "      <td>-0.008983</td>\n",
              "      <td>0.014724</td>\n",
              "      <td>2.69</td>\n",
              "      <td>0</td>\n",
              "    </tr>\n",
              "    <tr>\n",
              "      <th>2</th>\n",
              "      <td>1.0</td>\n",
              "      <td>-1.358354</td>\n",
              "      <td>-1.340163</td>\n",
              "      <td>1.773209</td>\n",
              "      <td>0.379780</td>\n",
              "      <td>-0.503198</td>\n",
              "      <td>1.800499</td>\n",
              "      <td>0.791461</td>\n",
              "      <td>0.247676</td>\n",
              "      <td>-1.514654</td>\n",
              "      <td>0.207643</td>\n",
              "      <td>0.624501</td>\n",
              "      <td>0.066084</td>\n",
              "      <td>0.717293</td>\n",
              "      <td>-0.165946</td>\n",
              "      <td>2.345865</td>\n",
              "      <td>-2.890083</td>\n",
              "      <td>1.109969</td>\n",
              "      <td>-0.121359</td>\n",
              "      <td>-2.261857</td>\n",
              "      <td>0.524980</td>\n",
              "      <td>0.247998</td>\n",
              "      <td>0.771679</td>\n",
              "      <td>0.909412</td>\n",
              "      <td>-0.689281</td>\n",
              "      <td>-0.327642</td>\n",
              "      <td>-0.139097</td>\n",
              "      <td>-0.055353</td>\n",
              "      <td>-0.059752</td>\n",
              "      <td>378.66</td>\n",
              "      <td>0</td>\n",
              "    </tr>\n",
              "    <tr>\n",
              "      <th>3</th>\n",
              "      <td>1.0</td>\n",
              "      <td>-0.966272</td>\n",
              "      <td>-0.185226</td>\n",
              "      <td>1.792993</td>\n",
              "      <td>-0.863291</td>\n",
              "      <td>-0.010309</td>\n",
              "      <td>1.247203</td>\n",
              "      <td>0.237609</td>\n",
              "      <td>0.377436</td>\n",
              "      <td>-1.387024</td>\n",
              "      <td>-0.054952</td>\n",
              "      <td>-0.226487</td>\n",
              "      <td>0.178228</td>\n",
              "      <td>0.507757</td>\n",
              "      <td>-0.287924</td>\n",
              "      <td>-0.631418</td>\n",
              "      <td>-1.059647</td>\n",
              "      <td>-0.684093</td>\n",
              "      <td>1.965775</td>\n",
              "      <td>-1.232622</td>\n",
              "      <td>-0.208038</td>\n",
              "      <td>-0.108300</td>\n",
              "      <td>0.005274</td>\n",
              "      <td>-0.190321</td>\n",
              "      <td>-1.175575</td>\n",
              "      <td>0.647376</td>\n",
              "      <td>-0.221929</td>\n",
              "      <td>0.062723</td>\n",
              "      <td>0.061458</td>\n",
              "      <td>123.50</td>\n",
              "      <td>0</td>\n",
              "    </tr>\n",
              "    <tr>\n",
              "      <th>4</th>\n",
              "      <td>2.0</td>\n",
              "      <td>-1.158233</td>\n",
              "      <td>0.877737</td>\n",
              "      <td>1.548718</td>\n",
              "      <td>0.403034</td>\n",
              "      <td>-0.407193</td>\n",
              "      <td>0.095921</td>\n",
              "      <td>0.592941</td>\n",
              "      <td>-0.270533</td>\n",
              "      <td>0.817739</td>\n",
              "      <td>0.753074</td>\n",
              "      <td>-0.822843</td>\n",
              "      <td>0.538196</td>\n",
              "      <td>1.345852</td>\n",
              "      <td>-1.119670</td>\n",
              "      <td>0.175121</td>\n",
              "      <td>-0.451449</td>\n",
              "      <td>-0.237033</td>\n",
              "      <td>-0.038195</td>\n",
              "      <td>0.803487</td>\n",
              "      <td>0.408542</td>\n",
              "      <td>-0.009431</td>\n",
              "      <td>0.798278</td>\n",
              "      <td>-0.137458</td>\n",
              "      <td>0.141267</td>\n",
              "      <td>-0.206010</td>\n",
              "      <td>0.502292</td>\n",
              "      <td>0.219422</td>\n",
              "      <td>0.215153</td>\n",
              "      <td>69.99</td>\n",
              "      <td>0</td>\n",
              "    </tr>\n",
              "    <tr>\n",
              "      <th>...</th>\n",
              "      <td>...</td>\n",
              "      <td>...</td>\n",
              "      <td>...</td>\n",
              "      <td>...</td>\n",
              "      <td>...</td>\n",
              "      <td>...</td>\n",
              "      <td>...</td>\n",
              "      <td>...</td>\n",
              "      <td>...</td>\n",
              "      <td>...</td>\n",
              "      <td>...</td>\n",
              "      <td>...</td>\n",
              "      <td>...</td>\n",
              "      <td>...</td>\n",
              "      <td>...</td>\n",
              "      <td>...</td>\n",
              "      <td>...</td>\n",
              "      <td>...</td>\n",
              "      <td>...</td>\n",
              "      <td>...</td>\n",
              "      <td>...</td>\n",
              "      <td>...</td>\n",
              "      <td>...</td>\n",
              "      <td>...</td>\n",
              "      <td>...</td>\n",
              "      <td>...</td>\n",
              "      <td>...</td>\n",
              "      <td>...</td>\n",
              "      <td>...</td>\n",
              "      <td>...</td>\n",
              "      <td>...</td>\n",
              "    </tr>\n",
              "    <tr>\n",
              "      <th>284802</th>\n",
              "      <td>172786.0</td>\n",
              "      <td>-11.881118</td>\n",
              "      <td>10.071785</td>\n",
              "      <td>-9.834783</td>\n",
              "      <td>-2.066656</td>\n",
              "      <td>-5.364473</td>\n",
              "      <td>-2.606837</td>\n",
              "      <td>-4.918215</td>\n",
              "      <td>7.305334</td>\n",
              "      <td>1.914428</td>\n",
              "      <td>4.356170</td>\n",
              "      <td>-1.593105</td>\n",
              "      <td>2.711941</td>\n",
              "      <td>-0.689256</td>\n",
              "      <td>4.626942</td>\n",
              "      <td>-0.924459</td>\n",
              "      <td>1.107641</td>\n",
              "      <td>1.991691</td>\n",
              "      <td>0.510632</td>\n",
              "      <td>-0.682920</td>\n",
              "      <td>1.475829</td>\n",
              "      <td>0.213454</td>\n",
              "      <td>0.111864</td>\n",
              "      <td>1.014480</td>\n",
              "      <td>-0.509348</td>\n",
              "      <td>1.436807</td>\n",
              "      <td>0.250034</td>\n",
              "      <td>0.943651</td>\n",
              "      <td>0.823731</td>\n",
              "      <td>0.77</td>\n",
              "      <td>0</td>\n",
              "    </tr>\n",
              "    <tr>\n",
              "      <th>284803</th>\n",
              "      <td>172787.0</td>\n",
              "      <td>-0.732789</td>\n",
              "      <td>-0.055080</td>\n",
              "      <td>2.035030</td>\n",
              "      <td>-0.738589</td>\n",
              "      <td>0.868229</td>\n",
              "      <td>1.058415</td>\n",
              "      <td>0.024330</td>\n",
              "      <td>0.294869</td>\n",
              "      <td>0.584800</td>\n",
              "      <td>-0.975926</td>\n",
              "      <td>-0.150189</td>\n",
              "      <td>0.915802</td>\n",
              "      <td>1.214756</td>\n",
              "      <td>-0.675143</td>\n",
              "      <td>1.164931</td>\n",
              "      <td>-0.711757</td>\n",
              "      <td>-0.025693</td>\n",
              "      <td>-1.221179</td>\n",
              "      <td>-1.545556</td>\n",
              "      <td>0.059616</td>\n",
              "      <td>0.214205</td>\n",
              "      <td>0.924384</td>\n",
              "      <td>0.012463</td>\n",
              "      <td>-1.016226</td>\n",
              "      <td>-0.606624</td>\n",
              "      <td>-0.395255</td>\n",
              "      <td>0.068472</td>\n",
              "      <td>-0.053527</td>\n",
              "      <td>24.79</td>\n",
              "      <td>0</td>\n",
              "    </tr>\n",
              "    <tr>\n",
              "      <th>284804</th>\n",
              "      <td>172788.0</td>\n",
              "      <td>1.919565</td>\n",
              "      <td>-0.301254</td>\n",
              "      <td>-3.249640</td>\n",
              "      <td>-0.557828</td>\n",
              "      <td>2.630515</td>\n",
              "      <td>3.031260</td>\n",
              "      <td>-0.296827</td>\n",
              "      <td>0.708417</td>\n",
              "      <td>0.432454</td>\n",
              "      <td>-0.484782</td>\n",
              "      <td>0.411614</td>\n",
              "      <td>0.063119</td>\n",
              "      <td>-0.183699</td>\n",
              "      <td>-0.510602</td>\n",
              "      <td>1.329284</td>\n",
              "      <td>0.140716</td>\n",
              "      <td>0.313502</td>\n",
              "      <td>0.395652</td>\n",
              "      <td>-0.577252</td>\n",
              "      <td>0.001396</td>\n",
              "      <td>0.232045</td>\n",
              "      <td>0.578229</td>\n",
              "      <td>-0.037501</td>\n",
              "      <td>0.640134</td>\n",
              "      <td>0.265745</td>\n",
              "      <td>-0.087371</td>\n",
              "      <td>0.004455</td>\n",
              "      <td>-0.026561</td>\n",
              "      <td>67.88</td>\n",
              "      <td>0</td>\n",
              "    </tr>\n",
              "    <tr>\n",
              "      <th>284805</th>\n",
              "      <td>172788.0</td>\n",
              "      <td>-0.240440</td>\n",
              "      <td>0.530483</td>\n",
              "      <td>0.702510</td>\n",
              "      <td>0.689799</td>\n",
              "      <td>-0.377961</td>\n",
              "      <td>0.623708</td>\n",
              "      <td>-0.686180</td>\n",
              "      <td>0.679145</td>\n",
              "      <td>0.392087</td>\n",
              "      <td>-0.399126</td>\n",
              "      <td>-1.933849</td>\n",
              "      <td>-0.962886</td>\n",
              "      <td>-1.042082</td>\n",
              "      <td>0.449624</td>\n",
              "      <td>1.962563</td>\n",
              "      <td>-0.608577</td>\n",
              "      <td>0.509928</td>\n",
              "      <td>1.113981</td>\n",
              "      <td>2.897849</td>\n",
              "      <td>0.127434</td>\n",
              "      <td>0.265245</td>\n",
              "      <td>0.800049</td>\n",
              "      <td>-0.163298</td>\n",
              "      <td>0.123205</td>\n",
              "      <td>-0.569159</td>\n",
              "      <td>0.546668</td>\n",
              "      <td>0.108821</td>\n",
              "      <td>0.104533</td>\n",
              "      <td>10.00</td>\n",
              "      <td>0</td>\n",
              "    </tr>\n",
              "    <tr>\n",
              "      <th>284806</th>\n",
              "      <td>172792.0</td>\n",
              "      <td>-0.533413</td>\n",
              "      <td>-0.189733</td>\n",
              "      <td>0.703337</td>\n",
              "      <td>-0.506271</td>\n",
              "      <td>-0.012546</td>\n",
              "      <td>-0.649617</td>\n",
              "      <td>1.577006</td>\n",
              "      <td>-0.414650</td>\n",
              "      <td>0.486180</td>\n",
              "      <td>-0.915427</td>\n",
              "      <td>-1.040458</td>\n",
              "      <td>-0.031513</td>\n",
              "      <td>-0.188093</td>\n",
              "      <td>-0.084316</td>\n",
              "      <td>0.041333</td>\n",
              "      <td>-0.302620</td>\n",
              "      <td>-0.660377</td>\n",
              "      <td>0.167430</td>\n",
              "      <td>-0.256117</td>\n",
              "      <td>0.382948</td>\n",
              "      <td>0.261057</td>\n",
              "      <td>0.643078</td>\n",
              "      <td>0.376777</td>\n",
              "      <td>0.008797</td>\n",
              "      <td>-0.473649</td>\n",
              "      <td>-0.818267</td>\n",
              "      <td>-0.002415</td>\n",
              "      <td>0.013649</td>\n",
              "      <td>217.00</td>\n",
              "      <td>0</td>\n",
              "    </tr>\n",
              "  </tbody>\n",
              "</table>\n",
              "<p>284807 rows × 31 columns</p>\n",
              "</div>"
            ],
            "text/plain": [
              "            Time         V1         V2  ...       V28  Amount  Class\n",
              "0            0.0  -1.359807  -0.072781  ... -0.021053  149.62      0\n",
              "1            0.0   1.191857   0.266151  ...  0.014724    2.69      0\n",
              "2            1.0  -1.358354  -1.340163  ... -0.059752  378.66      0\n",
              "3            1.0  -0.966272  -0.185226  ...  0.061458  123.50      0\n",
              "4            2.0  -1.158233   0.877737  ...  0.215153   69.99      0\n",
              "...          ...        ...        ...  ...       ...     ...    ...\n",
              "284802  172786.0 -11.881118  10.071785  ...  0.823731    0.77      0\n",
              "284803  172787.0  -0.732789  -0.055080  ... -0.053527   24.79      0\n",
              "284804  172788.0   1.919565  -0.301254  ... -0.026561   67.88      0\n",
              "284805  172788.0  -0.240440   0.530483  ...  0.104533   10.00      0\n",
              "284806  172792.0  -0.533413  -0.189733  ...  0.013649  217.00      0\n",
              "\n",
              "[284807 rows x 31 columns]"
            ]
          },
          "metadata": {},
          "execution_count": 47
        }
      ]
    },
    {
      "cell_type": "code",
      "metadata": {
        "id": "Gla-gS3Bwe2b",
        "colab": {
          "base_uri": "https://localhost:8080/"
        },
        "outputId": "9e18979d-a796-4365-facb-b40211f96fa8"
      },
      "source": [
        "# van-e benne hiányzó érték\n",
        "df.isnull().values.any()"
      ],
      "execution_count": 48,
      "outputs": [
        {
          "output_type": "execute_result",
          "data": {
            "text/plain": [
              "False"
            ]
          },
          "metadata": {},
          "execution_count": 48
        }
      ]
    },
    {
      "cell_type": "code",
      "metadata": {
        "id": "fBqnPSh0wkP0",
        "colab": {
          "base_uri": "https://localhost:8080/"
        },
        "outputId": "7bda4724-be5d-469d-c118-98caf7d9a99f"
      },
      "source": [
        "# normál / csalás tranzakciók aránya\n",
        "frauds = df[df.Class == 1]\n",
        "normal = df[df.Class == 0]\n",
        "print('normál:', normal.shape, 'csalás:', frauds.shape)"
      ],
      "execution_count": 49,
      "outputs": [
        {
          "output_type": "stream",
          "name": "stdout",
          "text": [
            "normál: (284315, 31) csalás: (492, 31)\n"
          ]
        }
      ]
    },
    {
      "cell_type": "code",
      "metadata": {
        "id": "bDLnBujawked",
        "colab": {
          "base_uri": "https://localhost:8080/"
        },
        "outputId": "9449b7ba-450e-4d78-aeb3-5454887c3372"
      },
      "source": [
        "# mennyire különböző a normál / csalás tranzakciók összege?\n",
        "frauds.Amount.describe()"
      ],
      "execution_count": 50,
      "outputs": [
        {
          "output_type": "execute_result",
          "data": {
            "text/plain": [
              "count     492.000000\n",
              "mean      122.211321\n",
              "std       256.683288\n",
              "min         0.000000\n",
              "25%         1.000000\n",
              "50%         9.250000\n",
              "75%       105.890000\n",
              "max      2125.870000\n",
              "Name: Amount, dtype: float64"
            ]
          },
          "metadata": {},
          "execution_count": 50
        }
      ]
    },
    {
      "cell_type": "code",
      "metadata": {
        "id": "affjmqRewksT",
        "colab": {
          "base_uri": "https://localhost:8080/"
        },
        "outputId": "1eabb837-6dd4-4054-e271-146abb12e185"
      },
      "source": [
        "normal.Amount.describe()"
      ],
      "execution_count": 51,
      "outputs": [
        {
          "output_type": "execute_result",
          "data": {
            "text/plain": [
              "count    284315.000000\n",
              "mean         88.291022\n",
              "std         250.105092\n",
              "min           0.000000\n",
              "25%           5.650000\n",
              "50%          22.000000\n",
              "75%          77.050000\n",
              "max       25691.160000\n",
              "Name: Amount, dtype: float64"
            ]
          },
          "metadata": {},
          "execution_count": 51
        }
      ]
    },
    {
      "cell_type": "code",
      "metadata": {
        "id": "U0VJZdGKwk_8",
        "colab": {
          "base_uri": "https://localhost:8080/",
          "height": 352
        },
        "outputId": "3caa2c2d-32f5-438d-fb5d-2bfd8ef379fd"
      },
      "source": [
        "# mennyire különböző a normál / csalás tranzakciók összege?  - hisztogramon ábrázolva\n",
        "f, (ax1, ax2) = plt.subplots(2, 1, sharex=True, figsize=(15,5))\n",
        "\n",
        "ax1.hist(frauds.Amount, bins = 20)\n",
        "ax1.set_title('Csalás')\n",
        "\n",
        "ax2.hist(normal.Amount, bins = 50)\n",
        "ax2.set_title('Normál')\n",
        "plt.xlabel('Összeg ($)')\n",
        "plt.ylabel('Tranzakciók száma')\n",
        "plt.xlim((0, 20000))\n",
        "plt.yscale('log')"
      ],
      "execution_count": 52,
      "outputs": [
        {
          "output_type": "display_data",
          "data": {
            "image/png": "[encoded data removed]",
            "text/plain": [
              "<Figure size 1080x360 with 2 Axes>"
            ]
          },
          "metadata": {
            "needs_background": "light"
          }
        }
      ]
    },
    {
      "cell_type": "code",
      "metadata": {
        "id": "NSv-NPvuwlO_",
        "colab": {
          "base_uri": "https://localhost:8080/",
          "height": 367
        },
        "outputId": "ae4858e7-ff70-4981-c264-414d33744302"
      },
      "source": [
        "# csalás tranzakciók: látszik valamilyen mintázat időben?\n",
        "f, (ax1, ax2) = plt.subplots(2, 1, sharex=True, figsize=(15,5))\n",
        "\n",
        "ax1.scatter(frauds.Time, frauds.Amount)\n",
        "ax1.set_title('Csalás')\n",
        "\n",
        "ax2.scatter(normal.Time, normal.Amount)\n",
        "ax2.set_title('Normál')\n",
        "\n",
        "plt.xlabel('Idő (s)')\n",
        "plt.ylabel('Összeg')\n"
      ],
      "execution_count": 53,
      "outputs": [
        {
          "output_type": "execute_result",
          "data": {
            "text/plain": [
              "Text(0, 0.5, 'Összeg')"
            ]
          },
          "metadata": {},
          "execution_count": 53
        },
        {
          "output_type": "display_data",
          "data": {
            "image/png": "[encoded data removed]",
            "text/plain": [
              "<Figure size 1080x360 with 2 Axes>"
            ]
          },
          "metadata": {
            "needs_background": "light"
          }
        }
      ]
    },
    {
      "cell_type": "code",
      "metadata": {
        "id": "beOXocyaOOuH"
      },
      "source": [
        "# adatok átrendezése: időtől nem függ, ezért azt az oszlopot töröljük\n",
        "df = df.drop('Time',axis=1)\n",
        "\n",
        "frauds = df[df.Class == 1]\n",
        "normal = df[df.Class == 0]"
      ],
      "execution_count": 54,
      "outputs": []
    },
    {
      "cell_type": "code",
      "metadata": {
        "id": "xhcBDiJeOQ-F"
      },
      "source": [
        "# csak a normál adatokat vesszük ki, és erre tanítunk majd AE-t\n",
        "X_normal = normal.drop('Class',axis=1).values"
      ],
      "execution_count": 55,
      "outputs": []
    },
    {
      "cell_type": "code",
      "metadata": {
        "id": "_4mumsC9OhEQ"
      },
      "source": [
        "# train-valid-test split\n",
        "X_normal_train, X_normal_test = train_test_split(X_normal,test_size=0.1)\n",
        "X_normal_valid, X_normal_test = train_test_split(X_normal_test,test_size=0.5)\n",
        "\n",
        "X_frauds_test = frauds.drop('Class',axis=1).values"
      ],
      "execution_count": 56,
      "outputs": []
    },
    {
      "cell_type": "code",
      "metadata": {
        "id": "7IzMJYVMmJR3"
      },
      "source": [
        "# adatok normalizálása\n",
        "data_scaler = MinMaxScaler()\n",
        "X_normal_train = data_scaler.fit_transform(X_normal_train)\n",
        "\n",
        "X_normal_valid = data_scaler.transform(X_normal_train)\n",
        "X_normal_test = data_scaler.transform(X_normal_test)\n",
        "X_frauds_test = data_scaler.transform(X_frauds_test)"
      ],
      "execution_count": 57,
      "outputs": []
    },
    {
      "cell_type": "code",
      "metadata": {
        "id": "3PcevKoBOkl_",
        "colab": {
          "base_uri": "https://localhost:8080/"
        },
        "outputId": "84a78ca7-ec63-4e95-f791-556ea7007bcb"
      },
      "source": [
        "X_normal_train.shape, X_normal_valid.shape, X_normal_test.shape, X_frauds_test.shape"
      ],
      "execution_count": 58,
      "outputs": [
        {
          "output_type": "execute_result",
          "data": {
            "text/plain": [
              "((255883, 29), (255883, 29), (14216, 29), (492, 29))"
            ]
          },
          "metadata": {},
          "execution_count": 58
        }
      ]
    },
    {
      "cell_type": "code",
      "metadata": {
        "id": "XPtid6NqOngw"
      },
      "source": [
        "# AE, bottleneck=2 ---> 2D-re tömörítjük az adatokat\n",
        "data_in = keras.layers.Input(shape=(29,))\n",
        "encoded = keras.layers.Dense(2,activation='tanh')(data_in)\n",
        "decoded = keras.layers.Dense(29,activation='sigmoid')(encoded)\n",
        "autoencoder = keras.models.Model(data_in,decoded)"
      ],
      "execution_count": 59,
      "outputs": []
    },
    {
      "cell_type": "code",
      "metadata": {
        "id": "xWe7pDzuOs0h"
      },
      "source": [
        "autoencoder.compile(optimizer='adam',loss='mean_squared_error')"
      ],
      "execution_count": 60,
      "outputs": []
    },
    {
      "cell_type": "code",
      "metadata": {
        "id": "B1a84s4YOvYq",
        "colab": {
          "base_uri": "https://localhost:8080/"
        },
        "outputId": "cfe8ba54-7561-446f-b83a-6be392f5dc75"
      },
      "source": [
        "autoencoder.fit(X_normal_train, X_normal_train, epochs = 5, batch_size=128, validation_data=(X_normal_valid,X_normal_valid))"
      ],
      "execution_count": 61,
      "outputs": [
        {
          "output_type": "stream",
          "name": "stdout",
          "text": [
            "Epoch 1/5\n",
            "2000/2000 [==============================] - 10s 5ms/step - loss: 0.0064 - val_loss: 8.1967e-04\n",
            "Epoch 2/5\n",
            "2000/2000 [==============================] - 11s 5ms/step - loss: 0.0019 - val_loss: 7.1408e-04\n",
            "Epoch 3/5\n",
            "2000/2000 [==============================] - 9s 5ms/step - loss: 0.0019 - val_loss: 6.9065e-04\n",
            "Epoch 4/5\n",
            "2000/2000 [==============================] - 11s 6ms/step - loss: 0.0019 - val_loss: 6.9536e-04\n",
            "Epoch 5/5\n",
            "2000/2000 [==============================] - 9s 5ms/step - loss: 0.0019 - val_loss: 6.2692e-04\n"
          ]
        },
        {
          "output_type": "execute_result",
          "data": {
            "text/plain": [
              "<keras.callbacks.History at 0x7ff37b413e10>"
            ]
          },
          "metadata": {},
          "execution_count": 61
        }
      ]
    },
    {
      "cell_type": "code",
      "metadata": {
        "id": "AeIrU8cUobS4"
      },
      "source": [
        "# nézzük meg, mit tanul meg az AE a normál tranzakciókról\n",
        "reconstructions_normal = autoencoder.predict(X_normal_test)"
      ],
      "execution_count": 62,
      "outputs": []
    },
    {
      "cell_type": "code",
      "metadata": {
        "colab": {
          "base_uri": "https://localhost:8080/",
          "height": 286
        },
        "id": "lxbKTXmNsIny",
        "outputId": "073746d4-5ab4-499f-9c29-1af06dd4b863"
      },
      "source": [
        "# kirajzolunk egy eredeti és visszaállított adatpontot\n",
        "plt.plot(X_normal_test[10], 'r')\n",
        "plt.plot(reconstructions_normal[10], 'b')\n",
        "plt.legend(['normál / eredeti', 'normál / visszaállított'])"
      ],
      "execution_count": 67,
      "outputs": [
        {
          "output_type": "execute_result",
          "data": {
            "text/plain": [
              "<matplotlib.legend.Legend at 0x7ff37c76cad0>"
            ]
          },
          "metadata": {},
          "execution_count": 67
        },
        {
          "output_type": "display_data",
          "data": {
            "image/png": "[encoded data removed]",
            "text/plain": [
              "<Figure size 432x288 with 1 Axes>"
            ]
          },
          "metadata": {
            "needs_background": "light"
          }
        }
      ]
    },
    {
      "cell_type": "code",
      "metadata": {
        "id": "duWCG3sTvPvj"
      },
      "source": [
        "# nézzük meg, mit tanul meg az AE a csalás tranzakciókról\n",
        "reconstructions_frauds = autoencoder.predict(X_frauds_test)"
      ],
      "execution_count": 65,
      "outputs": []
    },
    {
      "cell_type": "code",
      "metadata": {
        "colab": {
          "base_uri": "https://localhost:8080/",
          "height": 283
        },
        "id": "hNBocclxvQSV",
        "outputId": "dece1dd3-8839-4205-9397-bfe924901144"
      },
      "source": [
        "# kirajzolunk egy eredeti és visszaállított adatpontot\n",
        "plt.plot(X_frauds_test[10], 'r')\n",
        "plt.plot(reconstructions_frauds[10], 'b')\n",
        "plt.legend(['csalás / eredeti', 'csalás / visszaállított'])"
      ],
      "execution_count": 68,
      "outputs": [
        {
          "output_type": "execute_result",
          "data": {
            "text/plain": [
              "<matplotlib.legend.Legend at 0x7ff37c66ac10>"
            ]
          },
          "metadata": {},
          "execution_count": 68
        },
        {
          "output_type": "display_data",
          "data": {
            "image/png": "[encoded data removed]",
            "text/plain": [
              "<Figure size 432x288 with 1 Axes>"
            ]
          },
          "metadata": {
            "needs_background": "light"
          }
        }
      ]
    },
    {
      "cell_type": "code",
      "metadata": {
        "id": "nJzfquQkw5vB"
      },
      "source": [
        "# megfigyelés: a 'csalás' tranzakciókat csak nagyobb hibával tudja visszaállítani az AE, mint a normál tranzakcióknál"
      ],
      "execution_count": null,
      "outputs": []
    },
    {
      "cell_type": "code",
      "metadata": {
        "colab": {
          "base_uri": "https://localhost:8080/",
          "height": 296
        },
        "id": "rGVLzxTGk2U8",
        "outputId": "50dfea84-ed99-48ed-f4fe-fcbb9d24065c"
      },
      "source": [
        "# nézzük meg a visszaállítás hibájának eloszlását a 'normál' tranzakciókon!\n",
        "\n",
        "reconstructions_normal = autoencoder.predict(X_normal_test)\n",
        "test_loss = tf.keras.losses.mae(reconstructions_normal, X_normal_test)\n",
        "\n",
        "plt.hist(test_loss[None,:], bins=50)\n",
        "plt.xlabel(\"Teszt hiba (normál)\")\n",
        "plt.ylabel(\"Tranzakciók száma\")"
      ],
      "execution_count": 69,
      "outputs": [
        {
          "output_type": "execute_result",
          "data": {
            "text/plain": [
              "Text(0, 0.5, 'Tranzakciók száma')"
            ]
          },
          "metadata": {},
          "execution_count": 69
        },
        {
          "output_type": "display_data",
          "data": {
            "image/png": "[encoded data removed]",
            "text/plain": [
              "<Figure size 432x288 with 1 Axes>"
            ]
          },
          "metadata": {
            "needs_background": "light"
          }
        }
      ]
    },
    {
      "cell_type": "code",
      "metadata": {
        "id": "Kt8jIJuBxsyl"
      },
      "source": [
        "# a fenti ábra alapján úgy tűnik, hogy ha a 'teszt hiba' > 0.05, akkor gyanús az adat\n",
        "# azaz ezt érdemes a normál / csalás közti küszöb-nek beállítani!"
      ],
      "execution_count": 71,
      "outputs": []
    },
    {
      "cell_type": "code",
      "metadata": {
        "colab": {
          "base_uri": "https://localhost:8080/",
          "height": 296
        },
        "id": "wOrEI-PVljsA",
        "outputId": "05b2fa54-8289-4262-c54e-97b3a808ab58"
      },
      "source": [
        "# nézzük meg a visszaállítás hibájának eloszlását a 'csalás' tranzakciókon!\n",
        "\n",
        "reconstructions_frauds = autoencoder.predict(X_frauds_test)\n",
        "test_loss = tf.keras.losses.mae(reconstructions_frauds, X_frauds_test)\n",
        "\n",
        "plt.hist(test_loss[None,:], bins=50)\n",
        "plt.xlabel(\"Teszt hiba (csalás)\")\n",
        "plt.ylabel(\"Tranzakciók száma\")\n",
        "\n",
        "# és tegyük rá az ábrára a fent megállapított a 0.05-ös küszöböt\n",
        "threshold = 0.05\n",
        "plt.axvline(threshold, color='r')\n"
      ],
      "execution_count": 73,
      "outputs": [
        {
          "output_type": "execute_result",
          "data": {
            "text/plain": [
              "<matplotlib.lines.Line2D at 0x7ff37c2e9310>"
            ]
          },
          "metadata": {},
          "execution_count": 73
        },
        {
          "output_type": "display_data",
          "data": {
            "image/png": "[encoded data removed]",
            "text/plain": [
              "<Figure size 432x288 with 1 Axes>"
            ]
          },
          "metadata": {
            "needs_background": "light"
          }
        }
      ]
    },
    {
      "cell_type": "code",
      "metadata": {
        "id": "XxdKwajQrS4x"
      },
      "source": [
        "# konklúzió: nagyon egyszerű AE hálózattal sikerült a csalás tranzakciók egy részét felderítenünk!"
      ],
      "execution_count": null,
      "outputs": []
    },
    {
      "cell_type": "code",
      "metadata": {
        "id": "FRmu7G53vuKT"
      },
      "source": [
        ""
      ],
      "execution_count": null,
      "outputs": []
    },
    {
      "cell_type": "code",
      "metadata": {
        "id": "EO0zh4xqv7rU"
      },
      "source": [
        ""
      ],
      "execution_count": null,
      "outputs": []
    }
  ]
}