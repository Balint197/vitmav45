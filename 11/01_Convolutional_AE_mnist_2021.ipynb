{
  "nbformat": 4,
  "nbformat_minor": 0,
  "metadata": {
    "colab": {
      "name": "01_Convolutional_AE_mnist_test2021.ipynb",
      "provenance": []
    },
    "kernelspec": {
      "name": "python3",
      "display_name": "Python 3"
    },
    "accelerator": "GPU"
  },
  "cells": [
    {
      "cell_type": "markdown",
      "metadata": {
        "id": "hEXw_xiomrg8"
      },
      "source": [
        "# Copyright\n",
        "<pre>\n",
        "Jelen forráskód a Budapesti Műszaki és Gazdaságtudományi Egyetemen tartott\n",
        "\"Deep Learning a gyakorlatban Python és LUA alapon\" tantárgy segédanyagaként készült.\n",
        "\n",
        "A tantárgy honlapja: http://smartlab.tmit.bme.hu/oktatas-deep-learning\n",
        "Deep Learning kutatás: http://smartlab.tmit.bme.hu/deep-learning\n",
        "\n",
        "A forráskódot GPLv3 licensz védi. Újrafelhasználás esetén lehetőség szerint kérjük\n",
        "az alábbi szerzőt értesíteni.\n",
        "\n",
        "2021 (c) Csapó Tamás Gábor (csapot kukac tmit pont bme pont hu),\n",
        "Gyires-Tóth Bálint, Zainkó Csaba\n",
        "\n",
        "\n",
        "Original Convolutional AutoEncoder example from:\n",
        "\n",
        "Links:\n",
        "    [MNIST Dataset] http://yann.lecun.com/exdb/mnist/\n",
        "    [Keras Convolutional AutoEncoder] https://blog.keras.io/building-autoencoders-in-keras.html\n",
        "    [Autoencoder] https://colab.research.google.com/github/rickwierenga/notebooks/blob/master/autoencoders.ipynb\n",
        "</pre>"
      ]
    },
    {
      "cell_type": "code",
      "metadata": {
        "id": "8J17GJnhV2An"
      },
      "source": [
        "%tensorflow_version 2.x"
      ],
      "execution_count": 17,
      "outputs": []
    },
    {
      "cell_type": "code",
      "metadata": {
        "id": "zIeuarKMvc4T"
      },
      "source": [
        "from tensorflow import keras"
      ],
      "execution_count": 18,
      "outputs": []
    },
    {
      "cell_type": "code",
      "metadata": {
        "id": "C7SY4WoPV8Wx",
        "colab": {
          "base_uri": "https://localhost:8080/"
        },
        "outputId": "ca9ed177-207e-4a29-df0c-a4ecce1407a0"
      },
      "source": [
        "# MNIST mérete: 28x28\n",
        "\n",
        "# encoder rész\n",
        "encoder = keras.models.Sequential([\n",
        "    keras.layers.Reshape([28, 28, 1], input_shape=[28, 28]),\n",
        "    keras.layers.Conv2D(16, kernel_size=(3, 3), padding=\"same\", activation=\"relu\"),\n",
        "    keras.layers.MaxPool2D(pool_size=2),\n",
        "    keras.layers.Conv2D(32, kernel_size=(3, 3), padding=\"same\", activation=\"relu\"),\n",
        "    keras.layers.MaxPool2D(pool_size=2),\n",
        "    keras.layers.Conv2D(64, kernel_size=(3, 3), padding=\"same\", activation=\"relu\"),\n",
        "    keras.layers.MaxPool2D(pool_size=2)\n",
        "])\n",
        "\n",
        "# itt (3 x 3 x 64) azaz 576-dimenziós reprezentáció\n",
        "\n",
        "# szóban:\n",
        "# adat tömörítésre nem túl jó...\n",
        "# de: felügyelet nélküli előtanítás pl. osztályozóhoz, ha kevés a címkézett adat\n",
        "# mert az encoder hálózat első konvolúciós rétegei jellemzőkinyerést csinálnak\n",
        "\n",
        "encoder.summary()\n"
      ],
      "execution_count": 19,
      "outputs": [
        {
          "output_type": "stream",
          "name": "stdout",
          "text": [
            "Model: \"sequential_6\"\n",
            "_________________________________________________________________\n",
            " Layer (type)                Output Shape              Param #   \n",
            "=================================================================\n",
            " reshape_4 (Reshape)         (None, 28, 28, 1)         0         \n",
            "                                                                 \n",
            " conv2d_6 (Conv2D)           (None, 28, 28, 16)        160       \n",
            "                                                                 \n",
            " max_pooling2d_6 (MaxPooling  (None, 14, 14, 16)       0         \n",
            " 2D)                                                             \n",
            "                                                                 \n",
            " conv2d_7 (Conv2D)           (None, 14, 14, 32)        4640      \n",
            "                                                                 \n",
            " max_pooling2d_7 (MaxPooling  (None, 7, 7, 32)         0         \n",
            " 2D)                                                             \n",
            "                                                                 \n",
            " conv2d_8 (Conv2D)           (None, 7, 7, 64)          18496     \n",
            "                                                                 \n",
            " max_pooling2d_8 (MaxPooling  (None, 3, 3, 64)         0         \n",
            " 2D)                                                             \n",
            "                                                                 \n",
            "=================================================================\n",
            "Total params: 23,296\n",
            "Trainable params: 23,296\n",
            "Non-trainable params: 0\n",
            "_________________________________________________________________\n"
          ]
        }
      ]
    },
    {
      "cell_type": "code",
      "metadata": {
        "id": "D_1Np5H6WIaK",
        "colab": {
          "base_uri": "https://localhost:8080/"
        },
        "outputId": "55463172-1cab-4743-e85b-8bdf777171a9"
      },
      "source": [
        "# decoder rész\n",
        "decoder = keras.models.Sequential([\n",
        "    keras.layers.Conv2DTranspose(32, kernel_size=(3, 3), strides=2, padding=\"valid\", activation=\"relu\",\n",
        "                                 input_shape=[3, 3, 64]),\n",
        "    keras.layers.Conv2DTranspose(16, kernel_size=(3, 3), strides=2, padding=\"same\", activation=\"relu\"),\n",
        "    keras.layers.Conv2DTranspose(1, kernel_size=(3, 3), strides=2, padding=\"same\", activation=\"sigmoid\"),\n",
        "    keras.layers.Reshape([28, 28])\n",
        "])\n",
        "\n",
        "decoder.summary()"
      ],
      "execution_count": 20,
      "outputs": [
        {
          "output_type": "stream",
          "name": "stdout",
          "text": [
            "Model: \"sequential_7\"\n",
            "_________________________________________________________________\n",
            " Layer (type)                Output Shape              Param #   \n",
            "=================================================================\n",
            " conv2d_transpose_6 (Conv2DT  (None, 7, 7, 32)         18464     \n",
            " ranspose)                                                       \n",
            "                                                                 \n",
            " conv2d_transpose_7 (Conv2DT  (None, 14, 14, 16)       4624      \n",
            " ranspose)                                                       \n",
            "                                                                 \n",
            " conv2d_transpose_8 (Conv2DT  (None, 28, 28, 1)        145       \n",
            " ranspose)                                                       \n",
            "                                                                 \n",
            " reshape_5 (Reshape)         (None, 28, 28)            0         \n",
            "                                                                 \n",
            "=================================================================\n",
            "Total params: 23,233\n",
            "Trainable params: 23,233\n",
            "Non-trainable params: 0\n",
            "_________________________________________________________________\n"
          ]
        }
      ]
    },
    {
      "cell_type": "code",
      "metadata": {
        "id": "GNeRlL5-Xfa8",
        "colab": {
          "base_uri": "https://localhost:8080/"
        },
        "outputId": "ce88e71b-7ee3-49ad-e77e-b19ffb5bc1af"
      },
      "source": [
        "# modell a teljes AE-re\n",
        "autoencoder = keras.models.Sequential([encoder, decoder])\n",
        "\n",
        "autoencoder.summary()\n",
        "\n",
        "autoencoder.compile(optimizer = 'adam', loss = 'binary_crossentropy')"
      ],
      "execution_count": 21,
      "outputs": [
        {
          "output_type": "stream",
          "name": "stdout",
          "text": [
            "Model: \"sequential_8\"\n",
            "_________________________________________________________________\n",
            " Layer (type)                Output Shape              Param #   \n",
            "=================================================================\n",
            " sequential_6 (Sequential)   (None, 3, 3, 64)          23296     \n",
            "                                                                 \n",
            " sequential_7 (Sequential)   (None, 28, 28)            23233     \n",
            "                                                                 \n",
            "=================================================================\n",
            "Total params: 46,529\n",
            "Trainable params: 46,529\n",
            "Non-trainable params: 0\n",
            "_________________________________________________________________\n"
          ]
        }
      ]
    },
    {
      "cell_type": "code",
      "metadata": {
        "id": "AuhevXYNXhdJ",
        "colab": {
          "base_uri": "https://localhost:8080/"
        },
        "outputId": "d82dbf77-6b16-4edb-97e9-678c2a75a3e5"
      },
      "source": [
        "# tanítóadatok\n",
        "from keras.datasets import mnist\n",
        "\n",
        "(x_train, _) ,(x_test, _) = mnist.load_data()\n",
        "\n",
        "print(x_train.shape, x_test.shape)\n",
        "\n",
        "# teszt részt kettéválasztjuk még, hogy legyen külön validációs halmaz\n",
        "from sklearn.model_selection import train_test_split\n",
        "[x_test, x_valid] = train_test_split(x_test, test_size=0.5)\n",
        "\n",
        "x_train = x_train / 255\n",
        "x_valid = x_valid / 255\n",
        "x_test = x_test / 255\n",
        "\n",
        "print(x_train.shape, x_valid.shape, x_test.shape)"
      ],
      "execution_count": 22,
      "outputs": [
        {
          "output_type": "stream",
          "name": "stdout",
          "text": [
            "(60000, 28, 28) (10000, 28, 28)\n",
            "(60000, 28, 28) (5000, 28, 28) (5000, 28, 28)\n"
          ]
        }
      ]
    },
    {
      "cell_type": "code",
      "metadata": {
        "id": "MMImrM-6YM-f",
        "colab": {
          "base_uri": "https://localhost:8080/"
        },
        "outputId": "4815965a-e7e6-4db4-ab95-a9c55e7d29d1"
      },
      "source": [
        "# tanítás\n",
        "autoencoder.fit(x_train, x_train,\n",
        "                epochs = 10,\n",
        "                batch_size = 128,\n",
        "                shuffle = True,\n",
        "                validation_data = (x_valid, x_valid))"
      ],
      "execution_count": 23,
      "outputs": [
        {
          "output_type": "stream",
          "name": "stdout",
          "text": [
            "Epoch 1/10\n",
            "469/469 [==============================] - 7s 13ms/step - loss: 0.1943 - val_loss: 0.1028\n",
            "Epoch 2/10\n",
            "469/469 [==============================] - 5s 11ms/step - loss: 0.0955 - val_loss: 0.0892\n",
            "Epoch 3/10\n",
            "469/469 [==============================] - 5s 11ms/step - loss: 0.0874 - val_loss: 0.0839\n",
            "Epoch 4/10\n",
            "469/469 [==============================] - 5s 11ms/step - loss: 0.0834 - val_loss: 0.0812\n",
            "Epoch 5/10\n",
            "469/469 [==============================] - 5s 11ms/step - loss: 0.0809 - val_loss: 0.0792\n",
            "Epoch 6/10\n",
            "469/469 [==============================] - 5s 11ms/step - loss: 0.0791 - val_loss: 0.0778\n",
            "Epoch 7/10\n",
            "469/469 [==============================] - 5s 11ms/step - loss: 0.0778 - val_loss: 0.0765\n",
            "Epoch 8/10\n",
            "469/469 [==============================] - 5s 11ms/step - loss: 0.0767 - val_loss: 0.0755\n",
            "Epoch 9/10\n",
            "469/469 [==============================] - 5s 11ms/step - loss: 0.0759 - val_loss: 0.0751\n",
            "Epoch 10/10\n",
            "469/469 [==============================] - 5s 11ms/step - loss: 0.0751 - val_loss: 0.0743\n"
          ]
        },
        {
          "output_type": "execute_result",
          "data": {
            "text/plain": [
              "<keras.callbacks.History at 0x7ff210601b50>"
            ]
          },
          "metadata": {},
          "execution_count": 23
        }
      ]
    },
    {
      "cell_type": "code",
      "metadata": {
        "id": "G2usX1hlY5hY"
      },
      "source": [
        "# néhány digiten encode és decode\n",
        "encoded_imgs = encoder.predict(x_test)\n",
        "decoded_imgs = autoencoder.predict(x_test)"
      ],
      "execution_count": 24,
      "outputs": []
    },
    {
      "cell_type": "code",
      "metadata": {
        "id": "eCkfm_1Pb44E",
        "colab": {
          "base_uri": "https://localhost:8080/"
        },
        "outputId": "fd4e6d7d-ae43-488d-d692-ee0f1cb5fa63"
      },
      "source": [
        "# milyen méretű a háló közepe, a 'bottleneck'?\n",
        "print(encoded_imgs.shape)"
      ],
      "execution_count": 25,
      "outputs": [
        {
          "output_type": "stream",
          "name": "stdout",
          "text": [
            "(5000, 3, 3, 64)\n"
          ]
        }
      ]
    },
    {
      "cell_type": "code",
      "metadata": {
        "id": "WAaBlhoycAhA",
        "colab": {
          "base_uri": "https://localhost:8080/",
          "height": 277
        },
        "outputId": "b75fbcac-f5c1-4e7c-b1aa-66ae6560213d"
      },
      "source": [
        "# eredeti és visszaállított képek kirajzolása\n",
        "n = 8\n",
        "plt.figure(figsize=(16, 4))\n",
        "for i in range(n):\n",
        "  # eredeti\n",
        "  ax = plt.subplot(2, n, i + 1)\n",
        "  ax.set_title('eredeti')\n",
        "  plt.imshow(x_test[i].reshape(28,28))\n",
        "  plt.gray()\n",
        "  \n",
        "  # visszaállított\n",
        "  ax = plt.subplot(2, n, i + 1 + n)\n",
        "  ax.set_title('visszaállított')\n",
        "  plt.imshow(decoded_imgs[i].reshape(28,28))\n",
        "  plt.gray()    "
      ],
      "execution_count": 31,
      "outputs": [
        {
          "output_type": "display_data",
          "data": {
            "image/png": "[encoded data removed]",
            "text/plain": [
              "<Figure size 1152x288 with 16 Axes>"
            ]
          },
          "metadata": {
            "needs_background": "light"
          }
        }
      ]
    },
    {
      "cell_type": "code",
      "metadata": {
        "id": "UZ8YTmg4gm_M",
        "colab": {
          "base_uri": "https://localhost:8080/"
        },
        "outputId": "e4d7a866-f78d-4559-f70e-2391171e4488"
      },
      "source": [
        "print(encoded_imgs[i].shape)"
      ],
      "execution_count": 27,
      "outputs": [
        {
          "output_type": "stream",
          "name": "stdout",
          "text": [
            "(3, 3, 64)\n"
          ]
        }
      ]
    },
    {
      "cell_type": "code",
      "metadata": {
        "id": "2o_BS32Rhs2s",
        "colab": {
          "base_uri": "https://localhost:8080/",
          "height": 268
        },
        "outputId": "03f35ec9-c621-46f7-9e71-0beeaff50de1"
      },
      "source": [
        "# encoder utáni eredmény, bottleneck reprezentáció\n",
        "n = 8\n",
        "plt.figure(figsize=(16, 4))\n",
        "for i in range(n):\n",
        "  # eredeti\n",
        "  ax = plt.subplot(1, n, i + 1)\n",
        "  plt.imshow(encoded_imgs[i].reshape(3*3, 64).T)\n",
        "  plt.gray()"
      ],
      "execution_count": 32,
      "outputs": [
        {
          "output_type": "display_data",
          "data": {
            "image/png": "[encoded data removed]",
            "text/plain": [
              "<Figure size 1152x288 with 8 Axes>"
            ]
          },
          "metadata": {
            "needs_background": "light"
          }
        }
      ]
    },
    {
      "cell_type": "code",
      "metadata": {
        "id": "Ut-F7425h0P0"
      },
      "source": [
        ""
      ],
      "execution_count": null,
      "outputs": []
    }
  ]
}