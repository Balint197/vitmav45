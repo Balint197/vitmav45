{
 "cells": [
  {
   "cell_type": "code",
   "execution_count": 1,
   "source": [
    "import numpy as np\r\n",
    "import matplotlib.pyplot as plt\r\n",
    "%matplotlib inline\r\n",
    "from tensorflow.keras.models import Sequential\r\n",
    "from tensorflow.keras.layers import Dense\r\n",
    "from tensorflow.keras.optimizers import SGD"
   ],
   "outputs": [],
   "metadata": {}
  },
  {
   "cell_type": "code",
   "execution_count": 2,
   "source": [
    "nb_classes = 10\r\n",
    "\r\n",
    "model = Sequential()\r\n",
    "model.add(Dense(256,activation='relu',input_shape=(784,)))\r\n",
    "model.add(Dense(256,activation='relu'))\r\n",
    "model.add(Dense(nb_classes,activation='softmax'))\r\n",
    "\r\n",
    "model.compile(loss='categorical_crossentropy', \r\n",
    "              optimizer=SGD(learning_rate=0.001),\r\n",
    "              metrics=['accuracy'])\r\n",
    "\r\n",
    "model.summary()"
   ],
   "outputs": [
    {
     "output_type": "stream",
     "name": "stdout",
     "text": [
      "Model: \"sequential\"\n",
      "_________________________________________________________________\n",
      "Layer (type)                 Output Shape              Param #   \n",
      "=================================================================\n",
      "dense (Dense)                (None, 256)               200960    \n",
      "_________________________________________________________________\n",
      "dense_1 (Dense)              (None, 256)               65792     \n",
      "_________________________________________________________________\n",
      "dense_2 (Dense)              (None, 10)                2570      \n",
      "=================================================================\n",
      "Total params: 269,322\n",
      "Trainable params: 269,322\n",
      "Non-trainable params: 0\n",
      "_________________________________________________________________\n"
     ]
    }
   ],
   "metadata": {}
  },
  {
   "cell_type": "code",
   "execution_count": 3,
   "source": [
    "from tensorflow.keras.datasets import mnist\r\n",
    "from tensorflow.keras.utils import to_categorical\r\n",
    "\r\n",
    "(X_train, y_train), (X_test, y_test) = mnist.load_data()"
   ],
   "outputs": [],
   "metadata": {}
  },
  {
   "cell_type": "code",
   "execution_count": 4,
   "source": [
    "X_train.shape"
   ],
   "outputs": [
    {
     "output_type": "execute_result",
     "data": {
      "text/plain": [
       "(60000, 28, 28)"
      ]
     },
     "metadata": {},
     "execution_count": 4
    }
   ],
   "metadata": {}
  },
  {
   "cell_type": "code",
   "execution_count": 5,
   "source": [
    "X_test.shape"
   ],
   "outputs": [
    {
     "output_type": "execute_result",
     "data": {
      "text/plain": [
       "(10000, 28, 28)"
      ]
     },
     "metadata": {},
     "execution_count": 5
    }
   ],
   "metadata": {}
  },
  {
   "cell_type": "code",
   "execution_count": 6,
   "source": [
    "y_train.shape"
   ],
   "outputs": [
    {
     "output_type": "execute_result",
     "data": {
      "text/plain": [
       "(60000,)"
      ]
     },
     "metadata": {},
     "execution_count": 6
    }
   ],
   "metadata": {}
  },
  {
   "cell_type": "code",
   "execution_count": 7,
   "source": [
    "y_test.shape"
   ],
   "outputs": [
    {
     "output_type": "execute_result",
     "data": {
      "text/plain": [
       "(10000,)"
      ]
     },
     "metadata": {},
     "execution_count": 7
    }
   ],
   "metadata": {}
  },
  {
   "cell_type": "code",
   "execution_count": 8,
   "source": [
    "y_train[0]"
   ],
   "outputs": [
    {
     "output_type": "execute_result",
     "data": {
      "text/plain": [
       "5"
      ]
     },
     "metadata": {},
     "execution_count": 8
    }
   ],
   "metadata": {}
  },
  {
   "cell_type": "code",
   "execution_count": 9,
   "source": [
    "X_train= X_train.reshape(-1,784)\r\n",
    "X_train.shape"
   ],
   "outputs": [
    {
     "output_type": "execute_result",
     "data": {
      "text/plain": [
       "(60000, 784)"
      ]
     },
     "metadata": {},
     "execution_count": 9
    }
   ],
   "metadata": {}
  },
  {
   "cell_type": "code",
   "execution_count": 10,
   "source": [
    "X_test= X_test.reshape(-1,784)\r\n",
    "X_train = X_train.astype(\"float32\")\r\n",
    "X_test= X_test.astype('float32')\r\n",
    "X_train /=255\r\n",
    "X_test /=255\r\n",
    "Y_train = to_categorical(y_train,nb_classes)\r\n",
    "y_train[2]"
   ],
   "outputs": [
    {
     "output_type": "execute_result",
     "data": {
      "text/plain": [
       "4"
      ]
     },
     "metadata": {},
     "execution_count": 10
    }
   ],
   "metadata": {}
  },
  {
   "cell_type": "code",
   "execution_count": 11,
   "source": [
    "Y_train[2]"
   ],
   "outputs": [
    {
     "output_type": "execute_result",
     "data": {
      "text/plain": [
       "array([0., 0., 0., 0., 1., 0., 0., 0., 0., 0.], dtype=float32)"
      ]
     },
     "metadata": {},
     "execution_count": 11
    }
   ],
   "metadata": {}
  },
  {
   "cell_type": "code",
   "execution_count": 12,
   "source": [
    "Y_test= to_categorical(y_test,nb_classes)"
   ],
   "outputs": [],
   "metadata": {}
  },
  {
   "cell_type": "code",
   "execution_count": 13,
   "source": [
    "plt.imshow(X_train[2].reshape(28,28))"
   ],
   "outputs": [
    {
     "output_type": "execute_result",
     "data": {
      "text/plain": [
       "<matplotlib.image.AxesImage at 0x2c409381580>"
      ]
     },
     "metadata": {},
     "execution_count": 13
    },
    {
     "output_type": "display_data",
     "data": {
      "image/png": "[encoded data removed]",
      "text/plain": [
       "<Figure size 432x288 with 1 Axes>"
      ]
     },
     "metadata": {
      "needs_background": "light"
     }
    }
   ],
   "metadata": {}
  },
  {
   "cell_type": "code",
   "execution_count": 14,
   "source": [
    "from tensorflow.keras.callbacks import TensorBoard\r\n",
    "tb = TensorBoard(log_dir='logs', histogram_freq=1, write_graph=1)"
   ],
   "outputs": [],
   "metadata": {}
  },
  {
   "cell_type": "code",
   "execution_count": 15,
   "source": [
    "network_history = model.fit(X_train,Y_train, batch_size=128,epochs=30,\r\n",
    "                            verbose=1,validation_split=0.2,callbacks=[tb])"
   ],
   "outputs": [
    {
     "output_type": "stream",
     "name": "stdout",
     "text": [
      "Epoch 1/30\n",
      "375/375 [==============================] - 3s 5ms/step - loss: 2.2259 - accuracy: 0.2282 - val_loss: 2.1124 - val_accuracy: 0.3832\n",
      "Epoch 2/30\n",
      "375/375 [==============================] - 2s 5ms/step - loss: 2.0169 - accuracy: 0.5104 - val_loss: 1.9017 - val_accuracy: 0.6298\n",
      "Epoch 3/30\n",
      "375/375 [==============================] - 1s 4ms/step - loss: 1.7997 - accuracy: 0.6647 - val_loss: 1.6696 - val_accuracy: 0.7234\n",
      "Epoch 4/30\n",
      "375/375 [==============================] - 2s 4ms/step - loss: 1.5667 - accuracy: 0.7277 - val_loss: 1.4305 - val_accuracy: 0.7616\n",
      "Epoch 5/30\n",
      "375/375 [==============================] - 2s 5ms/step - loss: 1.3427 - accuracy: 0.7581 - val_loss: 1.2149 - val_accuracy: 0.7854\n",
      "Epoch 6/30\n",
      "375/375 [==============================] - 2s 5ms/step - loss: 1.1518 - accuracy: 0.7797 - val_loss: 1.0391 - val_accuracy: 0.8062\n",
      "Epoch 7/30\n",
      "375/375 [==============================] - 2s 5ms/step - loss: 1.0011 - accuracy: 0.7990 - val_loss: 0.9040 - val_accuracy: 0.8253\n",
      "Epoch 8/30\n",
      "375/375 [==============================] - 2s 5ms/step - loss: 0.8856 - accuracy: 0.8143 - val_loss: 0.8013 - val_accuracy: 0.8408\n",
      "Epoch 9/30\n",
      "375/375 [==============================] - 2s 5ms/step - loss: 0.7973 - accuracy: 0.8291 - val_loss: 0.7232 - val_accuracy: 0.8518\n",
      "Epoch 10/30\n",
      "375/375 [==============================] - 2s 4ms/step - loss: 0.7289 - accuracy: 0.8401 - val_loss: 0.6622 - val_accuracy: 0.8583\n",
      "Epoch 11/30\n",
      "375/375 [==============================] - 2s 5ms/step - loss: 0.6748 - accuracy: 0.8476 - val_loss: 0.6142 - val_accuracy: 0.8663\n",
      "Epoch 12/30\n",
      "375/375 [==============================] - 2s 5ms/step - loss: 0.6315 - accuracy: 0.8542 - val_loss: 0.5753 - val_accuracy: 0.8705\n",
      "Epoch 13/30\n",
      "375/375 [==============================] - 2s 5ms/step - loss: 0.5960 - accuracy: 0.8597 - val_loss: 0.5434 - val_accuracy: 0.8739\n",
      "Epoch 14/30\n",
      "375/375 [==============================] - 2s 5ms/step - loss: 0.5665 - accuracy: 0.8642 - val_loss: 0.5171 - val_accuracy: 0.8792\n",
      "Epoch 15/30\n",
      "375/375 [==============================] - 2s 5ms/step - loss: 0.5416 - accuracy: 0.8678 - val_loss: 0.4948 - val_accuracy: 0.8813\n",
      "Epoch 16/30\n",
      "375/375 [==============================] - 2s 5ms/step - loss: 0.5204 - accuracy: 0.8712 - val_loss: 0.4757 - val_accuracy: 0.8841\n",
      "Epoch 17/30\n",
      "375/375 [==============================] - 2s 5ms/step - loss: 0.5020 - accuracy: 0.8740 - val_loss: 0.4594 - val_accuracy: 0.8868\n",
      "Epoch 18/30\n",
      "375/375 [==============================] - 2s 5ms/step - loss: 0.4859 - accuracy: 0.8766 - val_loss: 0.4450 - val_accuracy: 0.8877\n",
      "Epoch 19/30\n",
      "375/375 [==============================] - 2s 5ms/step - loss: 0.4718 - accuracy: 0.8795 - val_loss: 0.4325 - val_accuracy: 0.8899\n",
      "Epoch 20/30\n",
      "375/375 [==============================] - 2s 5ms/step - loss: 0.4593 - accuracy: 0.8816 - val_loss: 0.4212 - val_accuracy: 0.8917\n",
      "Epoch 21/30\n",
      "375/375 [==============================] - 2s 5ms/step - loss: 0.4480 - accuracy: 0.8830 - val_loss: 0.4113 - val_accuracy: 0.8940\n",
      "Epoch 22/30\n",
      "375/375 [==============================] - 2s 5ms/step - loss: 0.4380 - accuracy: 0.8851 - val_loss: 0.4021 - val_accuracy: 0.8957\n",
      "Epoch 23/30\n",
      "375/375 [==============================] - 2s 6ms/step - loss: 0.4288 - accuracy: 0.8870 - val_loss: 0.3941 - val_accuracy: 0.8975\n",
      "Epoch 24/30\n",
      "375/375 [==============================] - 2s 5ms/step - loss: 0.4204 - accuracy: 0.8884 - val_loss: 0.3866 - val_accuracy: 0.8999\n",
      "Epoch 25/30\n",
      "375/375 [==============================] - 2s 4ms/step - loss: 0.4127 - accuracy: 0.8899 - val_loss: 0.3798 - val_accuracy: 0.9010\n",
      "Epoch 26/30\n",
      "375/375 [==============================] - 2s 5ms/step - loss: 0.4056 - accuracy: 0.8914 - val_loss: 0.3736 - val_accuracy: 0.9021\n",
      "Epoch 27/30\n",
      "375/375 [==============================] - 2s 5ms/step - loss: 0.3990 - accuracy: 0.8924 - val_loss: 0.3681 - val_accuracy: 0.9025\n",
      "Epoch 28/30\n",
      "375/375 [==============================] - 2s 4ms/step - loss: 0.3930 - accuracy: 0.8941 - val_loss: 0.3624 - val_accuracy: 0.9040\n",
      "Epoch 29/30\n",
      "375/375 [==============================] - 2s 5ms/step - loss: 0.3872 - accuracy: 0.8950 - val_loss: 0.3575 - val_accuracy: 0.9049\n",
      "Epoch 30/30\n",
      "375/375 [==============================] - 2s 6ms/step - loss: 0.3820 - accuracy: 0.8963 - val_loss: 0.3527 - val_accuracy: 0.9059\n"
     ]
    }
   ],
   "metadata": {}
  },
  {
   "cell_type": "code",
   "execution_count": 16,
   "source": [
    "%load_ext tensorboard\r\n",
    "%tensorboard --logdir logs"
   ],
   "outputs": [
    {
     "output_type": "display_data",
     "data": {
      "text/html": [
       "\n",
       "      <iframe id=\"tensorboard-frame-3167bd78a341a7c7\" width=\"100%\" height=\"800\" frameborder=\"0\">\n",
       "      </iframe>\n",
       "      <script>\n",
       "        (function() {\n",
       "          const frame = document.getElementById(\"tensorboard-frame-3167bd78a341a7c7\");\n",
       "          const url = new URL(\"/\", window.location);\n",
       "          const port = 6006;\n",
       "          if (port) {\n",
       "            url.port = port;\n",
       "          }\n",
       "          frame.src = url;\n",
       "        })();\n",
       "      </script>\n",
       "    "
      ],
      "text/plain": [
       "<IPython.core.display.HTML object>"
      ]
     },
     "metadata": {}
    }
   ],
   "metadata": {}
  },
  {
   "cell_type": "code",
   "execution_count": 17,
   "source": [
    "!pip3 install keras-visualizer\r\n"
   ],
   "outputs": [
    {
     "output_type": "stream",
     "name": "stdout",
     "text": [
      "Collecting keras-visualizer\n",
      "  Downloading keras_visualizer-2.4-py3-none-any.whl (5.4 kB)\n",
      "Installing collected packages: keras-visualizer\n",
      "Successfully installed keras-visualizer-2.4\n"
     ]
    }
   ],
   "metadata": {}
  },
  {
   "cell_type": "code",
   "execution_count": 20,
   "source": [
    "from keras_visualizer import visualizer \r\n",
    "import matplotlib.image as mpimg\r\n",
    "visualizer(model, format='png', view=True)\r\n",
    "img = mpimg.imread('graph.png')\r\n",
    "fig = plt.figure(figsize=[20,9])\r\n",
    "plt.imshow(img)\r\n",
    "plt.axis('off');"
   ],
   "outputs": [
    {
     "output_type": "error",
     "ename": "ValueError",
     "evalue": "Keras Visualizer: Error while visualizing",
     "traceback": [
      "\u001b[1;31m---------------------------------------------------------------------------\u001b[0m",
      "\u001b[1;31mFileNotFoundError\u001b[0m                         Traceback (most recent call last)",
      "\u001b[1;32m~\\anaconda3\\lib\\site-packages\\graphviz\\backend.py\u001b[0m in \u001b[0;36mrun\u001b[1;34m(cmd, input, capture_output, check, encoding, quiet, **kwargs)\u001b[0m\n\u001b[0;32m    169\u001b[0m     \u001b[1;32mtry\u001b[0m\u001b[1;33m:\u001b[0m\u001b[1;33m\u001b[0m\u001b[1;33m\u001b[0m\u001b[0m\n\u001b[1;32m--> 170\u001b[1;33m         \u001b[0mproc\u001b[0m \u001b[1;33m=\u001b[0m \u001b[0msubprocess\u001b[0m\u001b[1;33m.\u001b[0m\u001b[0mPopen\u001b[0m\u001b[1;33m(\u001b[0m\u001b[0mcmd\u001b[0m\u001b[1;33m,\u001b[0m \u001b[0mstartupinfo\u001b[0m\u001b[1;33m=\u001b[0m\u001b[0mget_startupinfo\u001b[0m\u001b[1;33m(\u001b[0m\u001b[1;33m)\u001b[0m\u001b[1;33m,\u001b[0m \u001b[1;33m**\u001b[0m\u001b[0mkwargs\u001b[0m\u001b[1;33m)\u001b[0m\u001b[1;33m\u001b[0m\u001b[1;33m\u001b[0m\u001b[0m\n\u001b[0m\u001b[0;32m    171\u001b[0m     \u001b[1;32mexcept\u001b[0m \u001b[0mOSError\u001b[0m \u001b[1;32mas\u001b[0m \u001b[0me\u001b[0m\u001b[1;33m:\u001b[0m\u001b[1;33m\u001b[0m\u001b[1;33m\u001b[0m\u001b[0m\n",
      "\u001b[1;32m~\\anaconda3\\lib\\subprocess.py\u001b[0m in \u001b[0;36m__init__\u001b[1;34m(self, args, bufsize, executable, stdin, stdout, stderr, preexec_fn, close_fds, shell, cwd, env, universal_newlines, startupinfo, creationflags, restore_signals, start_new_session, pass_fds, encoding, errors, text)\u001b[0m\n\u001b[0;32m    857\u001b[0m \u001b[1;33m\u001b[0m\u001b[0m\n\u001b[1;32m--> 858\u001b[1;33m             self._execute_child(args, executable, preexec_fn, close_fds,\n\u001b[0m\u001b[0;32m    859\u001b[0m                                 \u001b[0mpass_fds\u001b[0m\u001b[1;33m,\u001b[0m \u001b[0mcwd\u001b[0m\u001b[1;33m,\u001b[0m \u001b[0menv\u001b[0m\u001b[1;33m,\u001b[0m\u001b[1;33m\u001b[0m\u001b[1;33m\u001b[0m\u001b[0m\n",
      "\u001b[1;32m~\\anaconda3\\lib\\subprocess.py\u001b[0m in \u001b[0;36m_execute_child\u001b[1;34m(self, args, executable, preexec_fn, close_fds, pass_fds, cwd, env, startupinfo, creationflags, shell, p2cread, p2cwrite, c2pread, c2pwrite, errread, errwrite, unused_restore_signals, unused_start_new_session)\u001b[0m\n\u001b[0;32m   1310\u001b[0m             \u001b[1;32mtry\u001b[0m\u001b[1;33m:\u001b[0m\u001b[1;33m\u001b[0m\u001b[1;33m\u001b[0m\u001b[0m\n\u001b[1;32m-> 1311\u001b[1;33m                 hp, ht, pid, tid = _winapi.CreateProcess(executable, args,\n\u001b[0m\u001b[0;32m   1312\u001b[0m                                          \u001b[1;31m# no special security\u001b[0m\u001b[1;33m\u001b[0m\u001b[1;33m\u001b[0m\u001b[1;33m\u001b[0m\u001b[0m\n",
      "\u001b[1;31mFileNotFoundError\u001b[0m: [WinError 2] The system cannot find the file specified",
      "\nThe above exception was the direct cause of the following exception:\n",
      "\u001b[1;31mExecutableNotFound\u001b[0m                        Traceback (most recent call last)",
      "\u001b[1;32m~\\anaconda3\\lib\\site-packages\\keras_visualizer\\__init__.py\u001b[0m in \u001b[0;36mvisualizer\u001b[1;34m(model, filename, format, view)\u001b[0m\n\u001b[0;32m    229\u001b[0m         \u001b[1;32mif\u001b[0m \u001b[0mformat\u001b[0m \u001b[1;32mis\u001b[0m \u001b[1;32mnot\u001b[0m \u001b[1;32mNone\u001b[0m\u001b[1;33m:\u001b[0m\u001b[1;33m\u001b[0m\u001b[1;33m\u001b[0m\u001b[0m\n\u001b[1;32m--> 230\u001b[1;33m             \u001b[0mgraph\u001b[0m\u001b[1;33m.\u001b[0m\u001b[0mrender\u001b[0m\u001b[1;33m(\u001b[0m\u001b[0mformat\u001b[0m\u001b[1;33m=\u001b[0m\u001b[0mformat\u001b[0m\u001b[1;33m,\u001b[0m \u001b[0mview\u001b[0m\u001b[1;33m=\u001b[0m\u001b[0mview\u001b[0m\u001b[1;33m)\u001b[0m\u001b[1;33m\u001b[0m\u001b[1;33m\u001b[0m\u001b[0m\n\u001b[0m\u001b[0;32m    231\u001b[0m         \u001b[1;32melse\u001b[0m\u001b[1;33m:\u001b[0m\u001b[1;33m\u001b[0m\u001b[1;33m\u001b[0m\u001b[0m\n",
      "\u001b[1;32m~\\anaconda3\\lib\\site-packages\\graphviz\\files.py\u001b[0m in \u001b[0;36mrender\u001b[1;34m(self, filename, directory, view, cleanup, format, renderer, formatter, quiet, quiet_view)\u001b[0m\n\u001b[0;32m    237\u001b[0m \u001b[1;33m\u001b[0m\u001b[0m\n\u001b[1;32m--> 238\u001b[1;33m         rendered = backend.render(self._engine, format, filepath,\n\u001b[0m\u001b[0;32m    239\u001b[0m                                   \u001b[0mrenderer\u001b[0m\u001b[1;33m=\u001b[0m\u001b[0mrenderer\u001b[0m\u001b[1;33m,\u001b[0m \u001b[0mformatter\u001b[0m\u001b[1;33m=\u001b[0m\u001b[0mformatter\u001b[0m\u001b[1;33m,\u001b[0m\u001b[1;33m\u001b[0m\u001b[1;33m\u001b[0m\u001b[0m\n",
      "\u001b[1;32m~\\anaconda3\\lib\\site-packages\\graphviz\\backend.py\u001b[0m in \u001b[0;36mrender\u001b[1;34m(***failed resolving arguments***)\u001b[0m\n\u001b[0;32m    234\u001b[0m \u001b[1;33m\u001b[0m\u001b[0m\n\u001b[1;32m--> 235\u001b[1;33m     \u001b[0mrun\u001b[0m\u001b[1;33m(\u001b[0m\u001b[0mcmd\u001b[0m\u001b[1;33m,\u001b[0m \u001b[0mcapture_output\u001b[0m\u001b[1;33m=\u001b[0m\u001b[1;32mTrue\u001b[0m\u001b[1;33m,\u001b[0m \u001b[0mcwd\u001b[0m\u001b[1;33m=\u001b[0m\u001b[0mcwd\u001b[0m\u001b[1;33m,\u001b[0m \u001b[0mcheck\u001b[0m\u001b[1;33m=\u001b[0m\u001b[1;32mTrue\u001b[0m\u001b[1;33m,\u001b[0m \u001b[0mquiet\u001b[0m\u001b[1;33m=\u001b[0m\u001b[0mquiet\u001b[0m\u001b[1;33m)\u001b[0m\u001b[1;33m\u001b[0m\u001b[1;33m\u001b[0m\u001b[0m\n\u001b[0m\u001b[0;32m    236\u001b[0m     \u001b[1;32mreturn\u001b[0m \u001b[0mrendered\u001b[0m\u001b[1;33m\u001b[0m\u001b[1;33m\u001b[0m\u001b[0m\n",
      "\u001b[1;32m~\\anaconda3\\lib\\site-packages\\graphviz\\backend.py\u001b[0m in \u001b[0;36mrun\u001b[1;34m(cmd, input, capture_output, check, encoding, quiet, **kwargs)\u001b[0m\n\u001b[0;32m    172\u001b[0m         \u001b[1;32mif\u001b[0m \u001b[0me\u001b[0m\u001b[1;33m.\u001b[0m\u001b[0merrno\u001b[0m \u001b[1;33m==\u001b[0m \u001b[0merrno\u001b[0m\u001b[1;33m.\u001b[0m\u001b[0mENOENT\u001b[0m\u001b[1;33m:\u001b[0m\u001b[1;33m\u001b[0m\u001b[1;33m\u001b[0m\u001b[0m\n\u001b[1;32m--> 173\u001b[1;33m             \u001b[1;32mraise\u001b[0m \u001b[0mExecutableNotFound\u001b[0m\u001b[1;33m(\u001b[0m\u001b[0mcmd\u001b[0m\u001b[1;33m)\u001b[0m \u001b[1;32mfrom\u001b[0m \u001b[0me\u001b[0m\u001b[1;33m\u001b[0m\u001b[1;33m\u001b[0m\u001b[0m\n\u001b[0m\u001b[0;32m    174\u001b[0m         \u001b[1;32melse\u001b[0m\u001b[1;33m:\u001b[0m\u001b[1;33m\u001b[0m\u001b[1;33m\u001b[0m\u001b[0m\n",
      "\u001b[1;31mExecutableNotFound\u001b[0m: failed to execute 'dot', make sure the Graphviz executables are on your systems' PATH",
      "\nDuring handling of the above exception, another exception occurred:\n",
      "\u001b[1;31mValueError\u001b[0m                                Traceback (most recent call last)",
      "\u001b[1;32m<ipython-input-20-9c37e945edc3>\u001b[0m in \u001b[0;36m<module>\u001b[1;34m\u001b[0m\n\u001b[0;32m      1\u001b[0m \u001b[1;32mfrom\u001b[0m \u001b[0mkeras_visualizer\u001b[0m \u001b[1;32mimport\u001b[0m \u001b[0mvisualizer\u001b[0m\u001b[1;33m\u001b[0m\u001b[1;33m\u001b[0m\u001b[0m\n\u001b[0;32m      2\u001b[0m \u001b[1;32mimport\u001b[0m \u001b[0mmatplotlib\u001b[0m\u001b[1;33m.\u001b[0m\u001b[0mimage\u001b[0m \u001b[1;32mas\u001b[0m \u001b[0mmpimg\u001b[0m\u001b[1;33m\u001b[0m\u001b[1;33m\u001b[0m\u001b[0m\n\u001b[1;32m----> 3\u001b[1;33m \u001b[0mvisualizer\u001b[0m\u001b[1;33m(\u001b[0m\u001b[0mmodel\u001b[0m\u001b[1;33m,\u001b[0m \u001b[0mformat\u001b[0m\u001b[1;33m=\u001b[0m\u001b[1;34m'png'\u001b[0m\u001b[1;33m,\u001b[0m \u001b[0mview\u001b[0m\u001b[1;33m=\u001b[0m\u001b[1;32mTrue\u001b[0m\u001b[1;33m)\u001b[0m\u001b[1;33m\u001b[0m\u001b[1;33m\u001b[0m\u001b[0m\n\u001b[0m\u001b[0;32m      4\u001b[0m \u001b[0mimg\u001b[0m \u001b[1;33m=\u001b[0m \u001b[0mmpimg\u001b[0m\u001b[1;33m.\u001b[0m\u001b[0mimread\u001b[0m\u001b[1;33m(\u001b[0m\u001b[1;34m'graph.png'\u001b[0m\u001b[1;33m)\u001b[0m\u001b[1;33m\u001b[0m\u001b[1;33m\u001b[0m\u001b[0m\n\u001b[0;32m      5\u001b[0m \u001b[0mfig\u001b[0m \u001b[1;33m=\u001b[0m \u001b[0mplt\u001b[0m\u001b[1;33m.\u001b[0m\u001b[0mfigure\u001b[0m\u001b[1;33m(\u001b[0m\u001b[0mfigsize\u001b[0m\u001b[1;33m=\u001b[0m\u001b[1;33m[\u001b[0m\u001b[1;36m20\u001b[0m\u001b[1;33m,\u001b[0m\u001b[1;36m9\u001b[0m\u001b[1;33m]\u001b[0m\u001b[1;33m)\u001b[0m\u001b[1;33m\u001b[0m\u001b[1;33m\u001b[0m\u001b[0m\n",
      "\u001b[1;32m~\\anaconda3\\lib\\site-packages\\keras_visualizer\\__init__.py\u001b[0m in \u001b[0;36mvisualizer\u001b[1;34m(model, filename, format, view)\u001b[0m\n\u001b[0;32m    232\u001b[0m             \u001b[0mgraph\u001b[0m\u001b[1;33m.\u001b[0m\u001b[0msave\u001b[0m\u001b[1;33m(\u001b[0m\u001b[1;33m)\u001b[0m\u001b[1;33m\u001b[0m\u001b[1;33m\u001b[0m\u001b[0m\n\u001b[0;32m    233\u001b[0m     \u001b[1;32mexcept\u001b[0m \u001b[0mException\u001b[0m\u001b[1;33m:\u001b[0m\u001b[1;33m\u001b[0m\u001b[1;33m\u001b[0m\u001b[0m\n\u001b[1;32m--> 234\u001b[1;33m         \u001b[1;32mraise\u001b[0m \u001b[0mValueError\u001b[0m\u001b[1;33m(\u001b[0m\u001b[1;34m'Keras Visualizer: Error while visualizing'\u001b[0m\u001b[1;33m)\u001b[0m\u001b[1;33m\u001b[0m\u001b[1;33m\u001b[0m\u001b[0m\n\u001b[0m",
      "\u001b[1;31mValueError\u001b[0m: Keras Visualizer: Error while visualizing"
     ]
    }
   ],
   "metadata": {}
  },
  {
   "cell_type": "code",
   "execution_count": 21,
   "source": [
    "preds=model.predict(X_test)"
   ],
   "outputs": [],
   "metadata": {}
  },
  {
   "cell_type": "code",
   "execution_count": 22,
   "source": [
    "preds.shape"
   ],
   "outputs": [
    {
     "output_type": "execute_result",
     "data": {
      "text/plain": [
       "(10000, 10)"
      ]
     },
     "metadata": {},
     "execution_count": 22
    }
   ],
   "metadata": {}
  },
  {
   "cell_type": "code",
   "execution_count": 23,
   "source": [
    "preds[0]"
   ],
   "outputs": [
    {
     "output_type": "execute_result",
     "data": {
      "text/plain": [
       "array([5.25198877e-04, 5.09110077e-06, 1.08488355e-04, 2.00657733e-03,\n",
       "       1.09892979e-04, 1.60745418e-04, 3.97224630e-06, 9.89552557e-01,\n",
       "       1.26652143e-04, 7.40088196e-03], dtype=float32)"
      ]
     },
     "metadata": {},
     "execution_count": 23
    }
   ],
   "metadata": {}
  },
  {
   "cell_type": "code",
   "execution_count": 24,
   "source": [
    "np.argmax(preds[0])"
   ],
   "outputs": [
    {
     "output_type": "execute_result",
     "data": {
      "text/plain": [
       "7"
      ]
     },
     "metadata": {},
     "execution_count": 24
    }
   ],
   "metadata": {}
  },
  {
   "cell_type": "code",
   "execution_count": 25,
   "source": [
    "from sklearn.metrics import confusion_matrix\r\n",
    "conf=confusion_matrix(y_test,np.argmax(preds,axis=1))"
   ],
   "outputs": [],
   "metadata": {}
  },
  {
   "cell_type": "code",
   "execution_count": 26,
   "source": [
    "conf"
   ],
   "outputs": [
    {
     "output_type": "execute_result",
     "data": {
      "text/plain": [
       "array([[ 955,    0,    3,    1,    0,    8,    9,    1,    3,    0],\n",
       "       [   0, 1108,    3,    4,    1,    1,    4,    1,   13,    0],\n",
       "       [  13,    4,  896,   19,   21,    2,   17,   17,   34,    9],\n",
       "       [   4,    2,   21,  901,    0,   32,    4,   16,   20,   10],\n",
       "       [   1,    8,    5,    1,  897,    1,   13,    2,    7,   47],\n",
       "       [  18,    4,    7,   50,   16,  727,   17,   10,   35,    8],\n",
       "       [  19,    3,    9,    3,   11,   16,  892,    1,    4,    0],\n",
       "       [   6,   17,   28,    2,    9,    0,    0,  925,    5,   36],\n",
       "       [   8,    9,    9,   28,   13,   26,   18,   10,  837,   16],\n",
       "       [  12,    7,    3,    9,   44,   12,    2,   25,    9,  886]],\n",
       "      dtype=int64)"
      ]
     },
     "metadata": {},
     "execution_count": 26
    }
   ],
   "metadata": {}
  },
  {
   "cell_type": "code",
   "execution_count": 27,
   "source": [
    "import seaborn as sns"
   ],
   "outputs": [],
   "metadata": {}
  },
  {
   "cell_type": "code",
   "execution_count": 28,
   "source": [
    "ax = sns.heatmap(conf, annot=True, fmt='d',cmap=plt.cm.Blues)\r\n",
    "ax.set(xlabel=\"predicted Label\",ylabel='True label')"
   ],
   "outputs": [
    {
     "output_type": "execute_result",
     "data": {
      "text/plain": [
       "[Text(0.5, 15.0, 'predicted Label'), Text(33.0, 0.5, 'True label')]"
      ]
     },
     "metadata": {},
     "execution_count": 28
    },
    {
     "output_type": "display_data",
     "data": {
      "image/png": "[encoded data removed]",
      "text/plain": [
       "<Figure size 432x288 with 2 Axes>"
      ]
     },
     "metadata": {
      "needs_background": "light"
     }
    }
   ],
   "metadata": {}
  },
  {
   "cell_type": "markdown",
   "source": [
    "https://www.cs.ryerson.ca/~aharley/vis/"
   ],
   "metadata": {}
  },
  {
   "cell_type": "code",
   "execution_count": 29,
   "source": [
    "from tensorflow.keras.datasets import fashion_mnist\r\n",
    "(fX_train,fy_train), (fX_test,fy_test) = fashion_mnist.load_data()"
   ],
   "outputs": [
    {
     "output_type": "stream",
     "name": "stdout",
     "text": [
      "Downloading data from https://storage.googleapis.com/tensorflow/tf-keras-datasets/train-labels-idx1-ubyte.gz\n",
      "32768/29515 [=================================] - 0s 0us/step\n",
      "40960/29515 [=========================================] - 0s 0us/step\n",
      "Downloading data from https://storage.googleapis.com/tensorflow/tf-keras-datasets/train-images-idx3-ubyte.gz\n",
      "26427392/26421880 [==============================] - 1s 0us/step\n",
      "26435584/26421880 [==============================] - 1s 0us/step\n",
      "Downloading data from https://storage.googleapis.com/tensorflow/tf-keras-datasets/t10k-labels-idx1-ubyte.gz\n",
      "16384/5148 [===============================================================================================] - 0s 0s/step\n",
      "Downloading data from https://storage.googleapis.com/tensorflow/tf-keras-datasets/t10k-images-idx3-ubyte.gz\n",
      "4423680/4422102 [==============================] - 0s 0us/step\n",
      "4431872/4422102 [==============================] - 0s 0us/step\n"
     ]
    }
   ],
   "metadata": {}
  },
  {
   "cell_type": "code",
   "execution_count": 30,
   "source": [
    "fX_train.shape"
   ],
   "outputs": [
    {
     "output_type": "execute_result",
     "data": {
      "text/plain": [
       "(60000, 28, 28)"
      ]
     },
     "metadata": {},
     "execution_count": 30
    }
   ],
   "metadata": {}
  },
  {
   "cell_type": "code",
   "execution_count": 31,
   "source": [
    "fy_train.shape"
   ],
   "outputs": [
    {
     "output_type": "execute_result",
     "data": {
      "text/plain": [
       "(60000,)"
      ]
     },
     "metadata": {},
     "execution_count": 31
    }
   ],
   "metadata": {}
  },
  {
   "cell_type": "code",
   "execution_count": 32,
   "source": [
    "plt.imshow(fX_train[2].reshape(28,28))"
   ],
   "outputs": [
    {
     "output_type": "execute_result",
     "data": {
      "text/plain": [
       "<matplotlib.image.AxesImage at 0x2c41ff375b0>"
      ]
     },
     "metadata": {},
     "execution_count": 32
    },
    {
     "output_type": "display_data",
     "data": {
      "image/png": "[encoded data removed]",
      "text/plain": [
       "<Figure size 432x288 with 1 Axes>"
      ]
     },
     "metadata": {
      "needs_background": "light"
     }
    }
   ],
   "metadata": {}
  },
  {
   "cell_type": "code",
   "execution_count": 33,
   "source": [
    "fX_train=fX_train.reshape(-1,784).astype(\"float32\")/255\r\n",
    "fX_test=fX_test.reshape(-1,784).astype(\"float32\")/255\r\n",
    "fY_train=to_categorical(fy_train,nb_classes)\r\n",
    "fY_test=to_categorical(fy_test,nb_classes)\r\n",
    "from tensorflow.keras.optimizers import Adam"
   ],
   "outputs": [],
   "metadata": {}
  },
  {
   "cell_type": "code",
   "execution_count": 34,
   "source": [
    "model = Sequential()\r\n",
    "model.add(Dense(300,activation='relu',input_shape=(784,)))\r\n",
    "model.add(Dense(100,activation='relu'))\r\n",
    "model.add(Dense(nb_classes,activation='softmax'))\r\n",
    "\r\n",
    "model.compile(loss='categorical_crossentropy', \r\n",
    "              optimizer=Adam(),\r\n",
    "              metrics=['accuracy'])"
   ],
   "outputs": [],
   "metadata": {}
  },
  {
   "cell_type": "code",
   "execution_count": 36,
   "source": [
    "from tensorflow.keras.callbacks import EarlyStopping, ModelCheckpoint"
   ],
   "outputs": [],
   "metadata": {}
  },
  {
   "cell_type": "code",
   "execution_count": 37,
   "source": [
    "mc=ModelCheckpoint(\"model.hdf5\",save_best_only=True)"
   ],
   "outputs": [],
   "metadata": {}
  },
  {
   "cell_type": "code",
   "execution_count": 38,
   "source": [
    "es=EarlyStopping(patience=30)"
   ],
   "outputs": [],
   "metadata": {}
  },
  {
   "cell_type": "code",
   "execution_count": 39,
   "source": [
    "network_history = model.fit(X_train,Y_train, batch_size=128,epochs=560,\r\n",
    "                            verbose=1,validation_split=0.2,callbacks=[tb,mc,es])"
   ],
   "outputs": [
    {
     "output_type": "stream",
     "name": "stdout",
     "text": [
      "Epoch 1/560\n",
      "375/375 [==============================] - 3s 7ms/step - loss: 0.2976 - accuracy: 0.9156 - val_loss: 0.1411 - val_accuracy: 0.9570\n",
      "Epoch 2/560\n",
      "375/375 [==============================] - 2s 6ms/step - loss: 0.1132 - accuracy: 0.9672 - val_loss: 0.1145 - val_accuracy: 0.9667\n",
      "Epoch 3/560\n",
      "375/375 [==============================] - 2s 6ms/step - loss: 0.0739 - accuracy: 0.9778 - val_loss: 0.0933 - val_accuracy: 0.9720\n",
      "Epoch 4/560\n",
      "375/375 [==============================] - 2s 6ms/step - loss: 0.0509 - accuracy: 0.9842 - val_loss: 0.0927 - val_accuracy: 0.9725\n",
      "Epoch 5/560\n",
      "375/375 [==============================] - 2s 5ms/step - loss: 0.0379 - accuracy: 0.9885 - val_loss: 0.0883 - val_accuracy: 0.9730\n",
      "Epoch 6/560\n",
      "375/375 [==============================] - 2s 6ms/step - loss: 0.0288 - accuracy: 0.9910 - val_loss: 0.0851 - val_accuracy: 0.9765\n",
      "Epoch 7/560\n",
      "375/375 [==============================] - 2s 6ms/step - loss: 0.0220 - accuracy: 0.9932 - val_loss: 0.0892 - val_accuracy: 0.9772\n",
      "Epoch 8/560\n",
      "375/375 [==============================] - 2s 5ms/step - loss: 0.0154 - accuracy: 0.9956 - val_loss: 0.0912 - val_accuracy: 0.9754\n",
      "Epoch 9/560\n",
      "375/375 [==============================] - 2s 5ms/step - loss: 0.0142 - accuracy: 0.9956 - val_loss: 0.0879 - val_accuracy: 0.9772\n",
      "Epoch 10/560\n",
      "375/375 [==============================] - 2s 5ms/step - loss: 0.0100 - accuracy: 0.9973 - val_loss: 0.0993 - val_accuracy: 0.9771\n",
      "Epoch 11/560\n",
      "375/375 [==============================] - 2s 5ms/step - loss: 0.0122 - accuracy: 0.9960 - val_loss: 0.1045 - val_accuracy: 0.9755\n",
      "Epoch 12/560\n",
      "375/375 [==============================] - 2s 6ms/step - loss: 0.0101 - accuracy: 0.9964 - val_loss: 0.1136 - val_accuracy: 0.9737\n",
      "Epoch 13/560\n",
      "375/375 [==============================] - 2s 5ms/step - loss: 0.0122 - accuracy: 0.9960 - val_loss: 0.1179 - val_accuracy: 0.9746\n",
      "Epoch 14/560\n",
      "375/375 [==============================] - 2s 5ms/step - loss: 0.0093 - accuracy: 0.9968 - val_loss: 0.1108 - val_accuracy: 0.9755\n",
      "Epoch 15/560\n",
      "375/375 [==============================] - 2s 6ms/step - loss: 0.0067 - accuracy: 0.9978 - val_loss: 0.1208 - val_accuracy: 0.9764\n",
      "Epoch 16/560\n",
      "375/375 [==============================] - 2s 5ms/step - loss: 0.0116 - accuracy: 0.9960 - val_loss: 0.1181 - val_accuracy: 0.9739\n",
      "Epoch 17/560\n",
      "375/375 [==============================] - 2s 6ms/step - loss: 0.0081 - accuracy: 0.9974 - val_loss: 0.0999 - val_accuracy: 0.9785\n",
      "Epoch 18/560\n",
      "375/375 [==============================] - 2s 5ms/step - loss: 0.0029 - accuracy: 0.9992 - val_loss: 0.1062 - val_accuracy: 0.9778\n",
      "Epoch 19/560\n",
      "375/375 [==============================] - 2s 5ms/step - loss: 0.0052 - accuracy: 0.9982 - val_loss: 0.1268 - val_accuracy: 0.9766\n",
      "Epoch 20/560\n",
      "375/375 [==============================] - 2s 5ms/step - loss: 0.0097 - accuracy: 0.9969 - val_loss: 0.1185 - val_accuracy: 0.9772\n",
      "Epoch 21/560\n",
      "375/375 [==============================] - 2s 5ms/step - loss: 0.0042 - accuracy: 0.9986 - val_loss: 0.1301 - val_accuracy: 0.9764\n",
      "Epoch 22/560\n",
      "375/375 [==============================] - 2s 5ms/step - loss: 0.0082 - accuracy: 0.9970 - val_loss: 0.1467 - val_accuracy: 0.9740\n",
      "Epoch 23/560\n",
      "375/375 [==============================] - 2s 5ms/step - loss: 0.0088 - accuracy: 0.9970 - val_loss: 0.1229 - val_accuracy: 0.9774\n",
      "Epoch 24/560\n",
      "375/375 [==============================] - 2s 5ms/step - loss: 0.0040 - accuracy: 0.9987 - val_loss: 0.1566 - val_accuracy: 0.9734\n",
      "Epoch 25/560\n",
      "375/375 [==============================] - 2s 5ms/step - loss: 0.0066 - accuracy: 0.9980 - val_loss: 0.1345 - val_accuracy: 0.9781\n",
      "Epoch 26/560\n",
      "375/375 [==============================] - 2s 5ms/step - loss: 0.0041 - accuracy: 0.9985 - val_loss: 0.1446 - val_accuracy: 0.9753\n",
      "Epoch 27/560\n",
      "375/375 [==============================] - 2s 5ms/step - loss: 0.0037 - accuracy: 0.9987 - val_loss: 0.1247 - val_accuracy: 0.9788\n",
      "Epoch 28/560\n",
      "375/375 [==============================] - 2s 5ms/step - loss: 8.6038e-04 - accuracy: 0.9998 - val_loss: 0.1278 - val_accuracy: 0.9786\n",
      "Epoch 29/560\n",
      "375/375 [==============================] - 2s 5ms/step - loss: 0.0077 - accuracy: 0.9977 - val_loss: 0.1398 - val_accuracy: 0.9775\n",
      "Epoch 30/560\n",
      "375/375 [==============================] - 2s 5ms/step - loss: 0.0111 - accuracy: 0.9966 - val_loss: 0.1256 - val_accuracy: 0.9768\n",
      "Epoch 31/560\n",
      "375/375 [==============================] - 2s 5ms/step - loss: 0.0020 - accuracy: 0.9994 - val_loss: 0.1219 - val_accuracy: 0.9803\n",
      "Epoch 32/560\n",
      "375/375 [==============================] - 2s 6ms/step - loss: 0.0029 - accuracy: 0.9994 - val_loss: 0.1392 - val_accuracy: 0.9772\n",
      "Epoch 33/560\n",
      "375/375 [==============================] - 2s 5ms/step - loss: 0.0088 - accuracy: 0.9971 - val_loss: 0.1503 - val_accuracy: 0.9752\n",
      "Epoch 34/560\n",
      "375/375 [==============================] - 2s 6ms/step - loss: 0.0025 - accuracy: 0.9991 - val_loss: 0.1257 - val_accuracy: 0.9807\n",
      "Epoch 35/560\n",
      "375/375 [==============================] - 2s 6ms/step - loss: 4.5487e-04 - accuracy: 0.9999 - val_loss: 0.1239 - val_accuracy: 0.9806\n",
      "Epoch 36/560\n",
      "375/375 [==============================] - 2s 6ms/step - loss: 8.1859e-05 - accuracy: 1.0000 - val_loss: 0.1196 - val_accuracy: 0.9818\n"
     ]
    }
   ],
   "metadata": {}
  }
 ],
 "metadata": {
  "orig_nbformat": 4,
  "language_info": {
   "name": "python",
   "version": "3.8.8",
   "mimetype": "text/x-python",
   "codemirror_mode": {
    "name": "ipython",
    "version": 3
   },
   "pygments_lexer": "ipython3",
   "nbconvert_exporter": "python",
   "file_extension": ".py"
  },
  "kernelspec": {
   "name": "python3",
   "display_name": "Python 3.8.8 64-bit ('base': conda)"
  },
  "interpreter": {
   "hash": "b5f87dfb32803fa2c16a67643a591409de16b296f306a4dcb91dfebf83c71107"
  }
 },
 "nbformat": 4,
 "nbformat_minor": 2
}