{
 "cells": [
  {
   "cell_type": "code",
   "execution_count": 3,
   "source": [
    "import numpy as np\r\n",
    "from tensorflow.keras.models import Sequential\r\n",
    "from tensorflow.keras.layers import Dense, Dropout, Activation\r\n",
    "from tensorflow.keras.callbacks import EarlyStopping\r\n",
    "from tensorflow.keras.callbacks import ModelCheckpoint\r\n",
    "from tensorflow.keras.models import load_model\r\n",
    "import copy\r\n",
    "import pandas as pd\r\n",
    "from tensorflow.keras.optimizers import SGD\r\n",
    "from sklearn.preprocessing import StandardScaler\r\n",
    "\r\n",
    "\r\n",
    "np.random.seed(123)"
   ],
   "outputs": [],
   "metadata": {}
  },
  {
   "cell_type": "code",
   "execution_count": 1,
   "source": [
    "import urllib.request\r\n",
    "urllib.request.urlretrieve (\"https://archive.ics.uci.edu/ml/machine-learning-databases/housing/housing.data\", \"housing.data\")"
   ],
   "outputs": [
    {
     "output_type": "execute_result",
     "data": {
      "text/plain": [
       "('housing.data', <http.client.HTTPMessage at 0x2a32c4f64c0>)"
      ]
     },
     "metadata": {},
     "execution_count": 1
    }
   ],
   "metadata": {}
  },
  {
   "cell_type": "code",
   "execution_count": 4,
   "source": [
    "df = pd.read_csv(\"housing.data\", delim_whitespace=True, header=None)\r\n",
    "dataset = df.values\r\n",
    "test_split = 0.1\r\n",
    "valid_split = 0.1\r\n",
    "\r\n",
    "X = dataset[:,0:13]\r\n",
    "Y = dataset[:,13]\r\n",
    "\r\n",
    "v_index = int(X.shape[0]*(1-valid_split-test_split))\r\n",
    "t_index = int(X.shape[0]*(1-test_split))\r\n",
    "\r\n",
    "X_test = X[t_index:]\r\n",
    "Y_test = Y[t_index:]\r\n",
    "X_valid = X[v_index:t_index]\r\n",
    "Y_valid = Y[v_index:t_index]\r\n",
    "X = X[:v_index]\r\n",
    "Y = Y[:v_index]\r\n",
    "\r\n",
    "scaler = StandardScaler().fit(X)\r\n",
    "X = scaler.transform(X)\r\n",
    "X_valid = scaler.transform(X_valid)\r\n",
    "X_test = scaler.transform(X_test)\r\n"
   ],
   "outputs": [],
   "metadata": {}
  },
  {
   "cell_type": "code",
   "execution_count": 5,
   "source": [
    "patience=40\r\n",
    "early_stopping=EarlyStopping(patience=patience, verbose=1)\r\n",
    "checkpointer=ModelCheckpoint(filepath='weights.hdf5', save_best_only=True, verbose=1)"
   ],
   "outputs": [],
   "metadata": {}
  },
  {
   "cell_type": "code",
   "execution_count": 6,
   "source": [
    "model = Sequential()\r\n",
    "model.add(Dense(60, input_dim=X.shape[1]))\r\n",
    "model.add(Activation('sigmoid'))\r\n",
    "model.add(Dropout(0.5))\r\n",
    "model.add(Dense(1, activation='linear'))\r\n",
    "\r\n",
    "sgd = SGD(learning_rate=1e-3, decay=1e-6, momentum=0.9, nesterov=True)\r\n",
    "model.compile(loss='mse', optimizer=sgd)\r\n",
    "history=model.fit(X,Y,epochs=10000, \r\n",
    "                  batch_size=16,\r\n",
    "                  verbose=2,\r\n",
    "                  validation_data=(X_valid, Y_valid),\r\n",
    "                  callbacks=[checkpointer, early_stopping])"
   ],
   "outputs": [
    {
     "output_type": "stream",
     "name": "stdout",
     "text": [
      "Epoch 1/10000\n",
      "26/26 - 2s - loss: 173.8255 - val_loss: 27.1016\n",
      "\n",
      "Epoch 00001: val_loss improved from inf to 27.10158, saving model to weights.hdf5\n",
      "Epoch 2/10000\n",
      "26/26 - 0s - loss: 39.0096 - val_loss: 18.9510\n",
      "\n",
      "Epoch 00002: val_loss improved from 27.10158 to 18.95097, saving model to weights.hdf5\n",
      "Epoch 3/10000\n",
      "26/26 - 0s - loss: 37.1025 - val_loss: 26.2001\n",
      "\n",
      "Epoch 00003: val_loss did not improve from 18.95097\n",
      "Epoch 4/10000\n",
      "26/26 - 0s - loss: 29.9982 - val_loss: 31.5392\n",
      "\n",
      "Epoch 00004: val_loss did not improve from 18.95097\n",
      "Epoch 5/10000\n",
      "26/26 - 0s - loss: 33.7549 - val_loss: 26.9544\n",
      "\n",
      "Epoch 00005: val_loss did not improve from 18.95097\n",
      "Epoch 6/10000\n",
      "26/26 - 0s - loss: 32.4417 - val_loss: 37.1049\n",
      "\n",
      "Epoch 00006: val_loss did not improve from 18.95097\n",
      "Epoch 7/10000\n",
      "26/26 - 0s - loss: 30.6834 - val_loss: 30.0318\n",
      "\n",
      "Epoch 00007: val_loss did not improve from 18.95097\n",
      "Epoch 8/10000\n",
      "26/26 - 0s - loss: 30.9770 - val_loss: 35.9752\n",
      "\n",
      "Epoch 00008: val_loss did not improve from 18.95097\n",
      "Epoch 9/10000\n",
      "26/26 - 0s - loss: 28.9133 - val_loss: 30.4877\n",
      "\n",
      "Epoch 00009: val_loss did not improve from 18.95097\n",
      "Epoch 10/10000\n",
      "26/26 - 0s - loss: 30.0303 - val_loss: 36.5233\n",
      "\n",
      "Epoch 00010: val_loss did not improve from 18.95097\n",
      "Epoch 11/10000\n",
      "26/26 - 0s - loss: 31.3031 - val_loss: 29.7705\n",
      "\n",
      "Epoch 00011: val_loss did not improve from 18.95097\n",
      "Epoch 12/10000\n",
      "26/26 - 0s - loss: 26.6305 - val_loss: 28.5991\n",
      "\n",
      "Epoch 00012: val_loss did not improve from 18.95097\n",
      "Epoch 13/10000\n",
      "26/26 - 0s - loss: 24.3922 - val_loss: 42.4515\n",
      "\n",
      "Epoch 00013: val_loss did not improve from 18.95097\n",
      "Epoch 14/10000\n",
      "26/26 - 0s - loss: 28.9991 - val_loss: 46.1507\n",
      "\n",
      "Epoch 00014: val_loss did not improve from 18.95097\n",
      "Epoch 15/10000\n",
      "26/26 - 0s - loss: 28.1125 - val_loss: 40.5060\n",
      "\n",
      "Epoch 00015: val_loss did not improve from 18.95097\n",
      "Epoch 16/10000\n",
      "26/26 - 0s - loss: 26.7680 - val_loss: 47.9232\n",
      "\n",
      "Epoch 00016: val_loss did not improve from 18.95097\n",
      "Epoch 17/10000\n",
      "26/26 - 0s - loss: 28.6126 - val_loss: 42.4322\n",
      "\n",
      "Epoch 00017: val_loss did not improve from 18.95097\n",
      "Epoch 18/10000\n",
      "26/26 - 0s - loss: 29.8133 - val_loss: 33.0805\n",
      "\n",
      "Epoch 00018: val_loss did not improve from 18.95097\n",
      "Epoch 19/10000\n",
      "26/26 - 0s - loss: 27.5800 - val_loss: 35.4102\n",
      "\n",
      "Epoch 00019: val_loss did not improve from 18.95097\n",
      "Epoch 20/10000\n",
      "26/26 - 0s - loss: 27.0289 - val_loss: 43.9941\n",
      "\n",
      "Epoch 00020: val_loss did not improve from 18.95097\n",
      "Epoch 21/10000\n",
      "26/26 - 0s - loss: 26.2353 - val_loss: 38.0678\n",
      "\n",
      "Epoch 00021: val_loss did not improve from 18.95097\n",
      "Epoch 22/10000\n",
      "26/26 - 0s - loss: 24.9725 - val_loss: 28.7974\n",
      "\n",
      "Epoch 00022: val_loss did not improve from 18.95097\n",
      "Epoch 23/10000\n",
      "26/26 - 0s - loss: 26.6110 - val_loss: 32.7574\n",
      "\n",
      "Epoch 00023: val_loss did not improve from 18.95097\n",
      "Epoch 24/10000\n",
      "26/26 - 0s - loss: 24.3278 - val_loss: 41.1033\n",
      "\n",
      "Epoch 00024: val_loss did not improve from 18.95097\n",
      "Epoch 25/10000\n",
      "26/26 - 0s - loss: 22.0788 - val_loss: 43.0205\n",
      "\n",
      "Epoch 00025: val_loss did not improve from 18.95097\n",
      "Epoch 26/10000\n",
      "26/26 - 0s - loss: 24.4808 - val_loss: 39.3282\n",
      "\n",
      "Epoch 00026: val_loss did not improve from 18.95097\n",
      "Epoch 27/10000\n",
      "26/26 - 0s - loss: 23.6779 - val_loss: 43.0793\n",
      "\n",
      "Epoch 00027: val_loss did not improve from 18.95097\n",
      "Epoch 28/10000\n",
      "26/26 - 0s - loss: 23.5305 - val_loss: 38.7626\n",
      "\n",
      "Epoch 00028: val_loss did not improve from 18.95097\n",
      "Epoch 29/10000\n",
      "26/26 - 0s - loss: 24.3794 - val_loss: 46.6702\n",
      "\n",
      "Epoch 00029: val_loss did not improve from 18.95097\n",
      "Epoch 30/10000\n",
      "26/26 - 0s - loss: 25.7608 - val_loss: 52.5745\n",
      "\n",
      "Epoch 00030: val_loss did not improve from 18.95097\n",
      "Epoch 31/10000\n",
      "26/26 - 0s - loss: 23.0914 - val_loss: 46.7690\n",
      "\n",
      "Epoch 00031: val_loss did not improve from 18.95097\n",
      "Epoch 32/10000\n",
      "26/26 - 0s - loss: 22.5103 - val_loss: 42.8608\n",
      "\n",
      "Epoch 00032: val_loss did not improve from 18.95097\n",
      "Epoch 33/10000\n",
      "26/26 - 0s - loss: 21.9397 - val_loss: 45.1347\n",
      "\n",
      "Epoch 00033: val_loss did not improve from 18.95097\n",
      "Epoch 34/10000\n",
      "26/26 - 0s - loss: 25.8675 - val_loss: 41.7794\n",
      "\n",
      "Epoch 00034: val_loss did not improve from 18.95097\n",
      "Epoch 35/10000\n",
      "26/26 - 0s - loss: 23.1845 - val_loss: 43.6295\n",
      "\n",
      "Epoch 00035: val_loss did not improve from 18.95097\n",
      "Epoch 36/10000\n",
      "26/26 - 0s - loss: 21.4144 - val_loss: 44.4970\n",
      "\n",
      "Epoch 00036: val_loss did not improve from 18.95097\n",
      "Epoch 37/10000\n",
      "26/26 - 0s - loss: 23.0886 - val_loss: 52.9836\n",
      "\n",
      "Epoch 00037: val_loss did not improve from 18.95097\n",
      "Epoch 38/10000\n",
      "26/26 - 0s - loss: 19.3934 - val_loss: 47.1683\n",
      "\n",
      "Epoch 00038: val_loss did not improve from 18.95097\n",
      "Epoch 39/10000\n",
      "26/26 - 0s - loss: 21.8607 - val_loss: 51.2088\n",
      "\n",
      "Epoch 00039: val_loss did not improve from 18.95097\n",
      "Epoch 40/10000\n",
      "26/26 - 0s - loss: 20.7169 - val_loss: 60.3343\n",
      "\n",
      "Epoch 00040: val_loss did not improve from 18.95097\n",
      "Epoch 41/10000\n",
      "26/26 - 0s - loss: 19.2276 - val_loss: 50.0688\n",
      "\n",
      "Epoch 00041: val_loss did not improve from 18.95097\n",
      "Epoch 42/10000\n",
      "26/26 - 0s - loss: 19.1023 - val_loss: 49.0784\n",
      "\n",
      "Epoch 00042: val_loss did not improve from 18.95097\n",
      "Epoch 00042: early stopping\n"
     ]
    }
   ],
   "metadata": {}
  },
  {
   "cell_type": "code",
   "execution_count": 7,
   "source": [
    "model = load_model('weights.hdf5')\r\n",
    "\r\n",
    "from sklearn.metrics import mean_squared_error\r\n",
    "model = load_model('weights.hdf5')\r\n",
    "preds = model.predict(X_test)\r\n",
    "test_err = mean_squared_error(Y_test,preds)\r\n",
    "print(\"\\nTeszt hiba: %f\" % (test_err))"
   ],
   "outputs": [
    {
     "output_type": "stream",
     "name": "stdout",
     "text": [
      "\n",
      "Teszt hiba: 10.498566\n"
     ]
    }
   ],
   "metadata": {}
  },
  {
   "cell_type": "code",
   "execution_count": 8,
   "source": [
    "%matplotlib inline\r\n",
    "import seaborn as sns\r\n",
    "import matplotlib.pyplot as plt\r\n",
    "plt.figure(figsize=(10,10))\r\n",
    "sns.regplot(x=Y_test, y=preds.reshape(-1)).set(xlim=(10,30),ylim=(10,30));"
   ],
   "outputs": [
    {
     "output_type": "display_data",
     "data": {
      "image/png": "[encoded data removed]",
      "text/plain": [
       "<Figure size 720x720 with 1 Axes>"
      ]
     },
     "metadata": {
      "needs_background": "light"
     }
    }
   ],
   "metadata": {}
  }
 ],
 "metadata": {
  "orig_nbformat": 4,
  "language_info": {
   "name": "python",
   "version": "3.8.8",
   "mimetype": "text/x-python",
   "codemirror_mode": {
    "name": "ipython",
    "version": 3
   },
   "pygments_lexer": "ipython3",
   "nbconvert_exporter": "python",
   "file_extension": ".py"
  },
  "kernelspec": {
   "name": "python3",
   "display_name": "Python 3.8.8 64-bit ('base': conda)"
  },
  "interpreter": {
   "hash": "b5f87dfb32803fa2c16a67643a591409de16b296f306a4dcb91dfebf83c71107"
  }
 },
 "nbformat": 4,
 "nbformat_minor": 2
}